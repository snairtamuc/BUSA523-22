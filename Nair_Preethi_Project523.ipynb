{
 "cells": [
  {
   "cell_type": "markdown",
   "id": "5cc002b6",
   "metadata": {},
   "source": [
    "#Question 1"
   ]
  },
  {
   "cell_type": "code",
   "execution_count": 2,
   "id": "e571f9e1",
   "metadata": {},
   "outputs": [
    {
     "data": {
      "text/html": [
       "<div>\n",
       "<style scoped>\n",
       "    .dataframe tbody tr th:only-of-type {\n",
       "        vertical-align: middle;\n",
       "    }\n",
       "\n",
       "    .dataframe tbody tr th {\n",
       "        vertical-align: top;\n",
       "    }\n",
       "\n",
       "    .dataframe thead th {\n",
       "        text-align: right;\n",
       "    }\n",
       "</style>\n",
       "<table border=\"1\" class=\"dataframe\">\n",
       "  <thead>\n",
       "    <tr style=\"text-align: right;\">\n",
       "      <th></th>\n",
       "      <th>Age</th>\n",
       "      <th>Year</th>\n",
       "      <th>Auxillary nodes</th>\n",
       "      <th>Survival</th>\n",
       "    </tr>\n",
       "  </thead>\n",
       "  <tbody>\n",
       "    <tr>\n",
       "      <th>0</th>\n",
       "      <td>30</td>\n",
       "      <td>62</td>\n",
       "      <td>3</td>\n",
       "      <td>1</td>\n",
       "    </tr>\n",
       "    <tr>\n",
       "      <th>1</th>\n",
       "      <td>30</td>\n",
       "      <td>65</td>\n",
       "      <td>0</td>\n",
       "      <td>1</td>\n",
       "    </tr>\n",
       "    <tr>\n",
       "      <th>2</th>\n",
       "      <td>31</td>\n",
       "      <td>59</td>\n",
       "      <td>2</td>\n",
       "      <td>1</td>\n",
       "    </tr>\n",
       "    <tr>\n",
       "      <th>3</th>\n",
       "      <td>31</td>\n",
       "      <td>65</td>\n",
       "      <td>4</td>\n",
       "      <td>1</td>\n",
       "    </tr>\n",
       "    <tr>\n",
       "      <th>4</th>\n",
       "      <td>33</td>\n",
       "      <td>58</td>\n",
       "      <td>10</td>\n",
       "      <td>1</td>\n",
       "    </tr>\n",
       "    <tr>\n",
       "      <th>...</th>\n",
       "      <td>...</td>\n",
       "      <td>...</td>\n",
       "      <td>...</td>\n",
       "      <td>...</td>\n",
       "    </tr>\n",
       "    <tr>\n",
       "      <th>300</th>\n",
       "      <td>75</td>\n",
       "      <td>62</td>\n",
       "      <td>1</td>\n",
       "      <td>1</td>\n",
       "    </tr>\n",
       "    <tr>\n",
       "      <th>301</th>\n",
       "      <td>76</td>\n",
       "      <td>67</td>\n",
       "      <td>0</td>\n",
       "      <td>1</td>\n",
       "    </tr>\n",
       "    <tr>\n",
       "      <th>302</th>\n",
       "      <td>77</td>\n",
       "      <td>65</td>\n",
       "      <td>3</td>\n",
       "      <td>1</td>\n",
       "    </tr>\n",
       "    <tr>\n",
       "      <th>303</th>\n",
       "      <td>78</td>\n",
       "      <td>65</td>\n",
       "      <td>1</td>\n",
       "      <td>2</td>\n",
       "    </tr>\n",
       "    <tr>\n",
       "      <th>304</th>\n",
       "      <td>83</td>\n",
       "      <td>58</td>\n",
       "      <td>2</td>\n",
       "      <td>2</td>\n",
       "    </tr>\n",
       "  </tbody>\n",
       "</table>\n",
       "<p>305 rows × 4 columns</p>\n",
       "</div>"
      ],
      "text/plain": [
       "     Age  Year  Auxillary nodes  Survival \n",
       "0     30    62                3          1\n",
       "1     30    65                0          1\n",
       "2     31    59                2          1\n",
       "3     31    65                4          1\n",
       "4     33    58               10          1\n",
       "..   ...   ...              ...        ...\n",
       "300   75    62                1          1\n",
       "301   76    67                0          1\n",
       "302   77    65                3          1\n",
       "303   78    65                1          2\n",
       "304   83    58                2          2\n",
       "\n",
       "[305 rows x 4 columns]"
      ]
     },
     "execution_count": 2,
     "metadata": {},
     "output_type": "execute_result"
    }
   ],
   "source": [
    "#EDA\n",
    "import pandas as pd\n",
    "data = pd.read_csv(\"cancer.csv\")\n",
    "data"
   ]
  },
  {
   "cell_type": "code",
   "execution_count": 3,
   "id": "7dca8339",
   "metadata": {},
   "outputs": [
    {
     "data": {
      "text/html": [
       "<div>\n",
       "<style scoped>\n",
       "    .dataframe tbody tr th:only-of-type {\n",
       "        vertical-align: middle;\n",
       "    }\n",
       "\n",
       "    .dataframe tbody tr th {\n",
       "        vertical-align: top;\n",
       "    }\n",
       "\n",
       "    .dataframe thead th {\n",
       "        text-align: right;\n",
       "    }\n",
       "</style>\n",
       "<table border=\"1\" class=\"dataframe\">\n",
       "  <thead>\n",
       "    <tr style=\"text-align: right;\">\n",
       "      <th></th>\n",
       "      <th>Age</th>\n",
       "      <th>Year</th>\n",
       "      <th>Auxillary nodes</th>\n",
       "      <th>Survival</th>\n",
       "    </tr>\n",
       "  </thead>\n",
       "  <tbody>\n",
       "    <tr>\n",
       "      <th>count</th>\n",
       "      <td>305.000000</td>\n",
       "      <td>305.000000</td>\n",
       "      <td>305.000000</td>\n",
       "      <td>305.000000</td>\n",
       "    </tr>\n",
       "    <tr>\n",
       "      <th>mean</th>\n",
       "      <td>52.531148</td>\n",
       "      <td>62.849180</td>\n",
       "      <td>4.036066</td>\n",
       "      <td>1.265574</td>\n",
       "    </tr>\n",
       "    <tr>\n",
       "      <th>std</th>\n",
       "      <td>10.744024</td>\n",
       "      <td>3.254078</td>\n",
       "      <td>7.199370</td>\n",
       "      <td>0.442364</td>\n",
       "    </tr>\n",
       "    <tr>\n",
       "      <th>min</th>\n",
       "      <td>30.000000</td>\n",
       "      <td>58.000000</td>\n",
       "      <td>0.000000</td>\n",
       "      <td>1.000000</td>\n",
       "    </tr>\n",
       "    <tr>\n",
       "      <th>25%</th>\n",
       "      <td>44.000000</td>\n",
       "      <td>60.000000</td>\n",
       "      <td>0.000000</td>\n",
       "      <td>1.000000</td>\n",
       "    </tr>\n",
       "    <tr>\n",
       "      <th>50%</th>\n",
       "      <td>52.000000</td>\n",
       "      <td>63.000000</td>\n",
       "      <td>1.000000</td>\n",
       "      <td>1.000000</td>\n",
       "    </tr>\n",
       "    <tr>\n",
       "      <th>75%</th>\n",
       "      <td>61.000000</td>\n",
       "      <td>66.000000</td>\n",
       "      <td>4.000000</td>\n",
       "      <td>2.000000</td>\n",
       "    </tr>\n",
       "    <tr>\n",
       "      <th>max</th>\n",
       "      <td>83.000000</td>\n",
       "      <td>69.000000</td>\n",
       "      <td>52.000000</td>\n",
       "      <td>2.000000</td>\n",
       "    </tr>\n",
       "  </tbody>\n",
       "</table>\n",
       "</div>"
      ],
      "text/plain": [
       "              Age        Year  Auxillary nodes   Survival \n",
       "count  305.000000  305.000000       305.000000  305.000000\n",
       "mean    52.531148   62.849180         4.036066    1.265574\n",
       "std     10.744024    3.254078         7.199370    0.442364\n",
       "min     30.000000   58.000000         0.000000    1.000000\n",
       "25%     44.000000   60.000000         0.000000    1.000000\n",
       "50%     52.000000   63.000000         1.000000    1.000000\n",
       "75%     61.000000   66.000000         4.000000    2.000000\n",
       "max     83.000000   69.000000        52.000000    2.000000"
      ]
     },
     "execution_count": 3,
     "metadata": {},
     "output_type": "execute_result"
    }
   ],
   "source": [
    "#summary statistics of the available data\n",
    "data.describe()"
   ]
  },
  {
   "cell_type": "code",
   "execution_count": 5,
   "id": "7f81c285",
   "metadata": {},
   "outputs": [
    {
     "data": {
      "application/javascript": [
       "/* Put everything inside the global mpl namespace */\n",
       "/* global mpl */\n",
       "window.mpl = {};\n",
       "\n",
       "mpl.get_websocket_type = function () {\n",
       "    if (typeof WebSocket !== 'undefined') {\n",
       "        return WebSocket;\n",
       "    } else if (typeof MozWebSocket !== 'undefined') {\n",
       "        return MozWebSocket;\n",
       "    } else {\n",
       "        alert(\n",
       "            'Your browser does not have WebSocket support. ' +\n",
       "                'Please try Chrome, Safari or Firefox ≥ 6. ' +\n",
       "                'Firefox 4 and 5 are also supported but you ' +\n",
       "                'have to enable WebSockets in about:config.'\n",
       "        );\n",
       "    }\n",
       "};\n",
       "\n",
       "mpl.figure = function (figure_id, websocket, ondownload, parent_element) {\n",
       "    this.id = figure_id;\n",
       "\n",
       "    this.ws = websocket;\n",
       "\n",
       "    this.supports_binary = this.ws.binaryType !== undefined;\n",
       "\n",
       "    if (!this.supports_binary) {\n",
       "        var warnings = document.getElementById('mpl-warnings');\n",
       "        if (warnings) {\n",
       "            warnings.style.display = 'block';\n",
       "            warnings.textContent =\n",
       "                'This browser does not support binary websocket messages. ' +\n",
       "                'Performance may be slow.';\n",
       "        }\n",
       "    }\n",
       "\n",
       "    this.imageObj = new Image();\n",
       "\n",
       "    this.context = undefined;\n",
       "    this.message = undefined;\n",
       "    this.canvas = undefined;\n",
       "    this.rubberband_canvas = undefined;\n",
       "    this.rubberband_context = undefined;\n",
       "    this.format_dropdown = undefined;\n",
       "\n",
       "    this.image_mode = 'full';\n",
       "\n",
       "    this.root = document.createElement('div');\n",
       "    this.root.setAttribute('style', 'display: inline-block');\n",
       "    this._root_extra_style(this.root);\n",
       "\n",
       "    parent_element.appendChild(this.root);\n",
       "\n",
       "    this._init_header(this);\n",
       "    this._init_canvas(this);\n",
       "    this._init_toolbar(this);\n",
       "\n",
       "    var fig = this;\n",
       "\n",
       "    this.waiting = false;\n",
       "\n",
       "    this.ws.onopen = function () {\n",
       "        fig.send_message('supports_binary', { value: fig.supports_binary });\n",
       "        fig.send_message('send_image_mode', {});\n",
       "        if (fig.ratio !== 1) {\n",
       "            fig.send_message('set_dpi_ratio', { dpi_ratio: fig.ratio });\n",
       "        }\n",
       "        fig.send_message('refresh', {});\n",
       "    };\n",
       "\n",
       "    this.imageObj.onload = function () {\n",
       "        if (fig.image_mode === 'full') {\n",
       "            // Full images could contain transparency (where diff images\n",
       "            // almost always do), so we need to clear the canvas so that\n",
       "            // there is no ghosting.\n",
       "            fig.context.clearRect(0, 0, fig.canvas.width, fig.canvas.height);\n",
       "        }\n",
       "        fig.context.drawImage(fig.imageObj, 0, 0);\n",
       "    };\n",
       "\n",
       "    this.imageObj.onunload = function () {\n",
       "        fig.ws.close();\n",
       "    };\n",
       "\n",
       "    this.ws.onmessage = this._make_on_message_function(this);\n",
       "\n",
       "    this.ondownload = ondownload;\n",
       "};\n",
       "\n",
       "mpl.figure.prototype._init_header = function () {\n",
       "    var titlebar = document.createElement('div');\n",
       "    titlebar.classList =\n",
       "        'ui-dialog-titlebar ui-widget-header ui-corner-all ui-helper-clearfix';\n",
       "    var titletext = document.createElement('div');\n",
       "    titletext.classList = 'ui-dialog-title';\n",
       "    titletext.setAttribute(\n",
       "        'style',\n",
       "        'width: 100%; text-align: center; padding: 3px;'\n",
       "    );\n",
       "    titlebar.appendChild(titletext);\n",
       "    this.root.appendChild(titlebar);\n",
       "    this.header = titletext;\n",
       "};\n",
       "\n",
       "mpl.figure.prototype._canvas_extra_style = function (_canvas_div) {};\n",
       "\n",
       "mpl.figure.prototype._root_extra_style = function (_canvas_div) {};\n",
       "\n",
       "mpl.figure.prototype._init_canvas = function () {\n",
       "    var fig = this;\n",
       "\n",
       "    var canvas_div = (this.canvas_div = document.createElement('div'));\n",
       "    canvas_div.setAttribute(\n",
       "        'style',\n",
       "        'border: 1px solid #ddd;' +\n",
       "            'box-sizing: content-box;' +\n",
       "            'clear: both;' +\n",
       "            'min-height: 1px;' +\n",
       "            'min-width: 1px;' +\n",
       "            'outline: 0;' +\n",
       "            'overflow: hidden;' +\n",
       "            'position: relative;' +\n",
       "            'resize: both;'\n",
       "    );\n",
       "\n",
       "    function on_keyboard_event_closure(name) {\n",
       "        return function (event) {\n",
       "            return fig.key_event(event, name);\n",
       "        };\n",
       "    }\n",
       "\n",
       "    canvas_div.addEventListener(\n",
       "        'keydown',\n",
       "        on_keyboard_event_closure('key_press')\n",
       "    );\n",
       "    canvas_div.addEventListener(\n",
       "        'keyup',\n",
       "        on_keyboard_event_closure('key_release')\n",
       "    );\n",
       "\n",
       "    this._canvas_extra_style(canvas_div);\n",
       "    this.root.appendChild(canvas_div);\n",
       "\n",
       "    var canvas = (this.canvas = document.createElement('canvas'));\n",
       "    canvas.classList.add('mpl-canvas');\n",
       "    canvas.setAttribute('style', 'box-sizing: content-box;');\n",
       "\n",
       "    this.context = canvas.getContext('2d');\n",
       "\n",
       "    var backingStore =\n",
       "        this.context.backingStorePixelRatio ||\n",
       "        this.context.webkitBackingStorePixelRatio ||\n",
       "        this.context.mozBackingStorePixelRatio ||\n",
       "        this.context.msBackingStorePixelRatio ||\n",
       "        this.context.oBackingStorePixelRatio ||\n",
       "        this.context.backingStorePixelRatio ||\n",
       "        1;\n",
       "\n",
       "    this.ratio = (window.devicePixelRatio || 1) / backingStore;\n",
       "\n",
       "    var rubberband_canvas = (this.rubberband_canvas = document.createElement(\n",
       "        'canvas'\n",
       "    ));\n",
       "    rubberband_canvas.setAttribute(\n",
       "        'style',\n",
       "        'box-sizing: content-box; position: absolute; left: 0; top: 0; z-index: 1;'\n",
       "    );\n",
       "\n",
       "    // Apply a ponyfill if ResizeObserver is not implemented by browser.\n",
       "    if (this.ResizeObserver === undefined) {\n",
       "        if (window.ResizeObserver !== undefined) {\n",
       "            this.ResizeObserver = window.ResizeObserver;\n",
       "        } else {\n",
       "            var obs = _JSXTOOLS_RESIZE_OBSERVER({});\n",
       "            this.ResizeObserver = obs.ResizeObserver;\n",
       "        }\n",
       "    }\n",
       "\n",
       "    this.resizeObserverInstance = new this.ResizeObserver(function (entries) {\n",
       "        var nentries = entries.length;\n",
       "        for (var i = 0; i < nentries; i++) {\n",
       "            var entry = entries[i];\n",
       "            var width, height;\n",
       "            if (entry.contentBoxSize) {\n",
       "                if (entry.contentBoxSize instanceof Array) {\n",
       "                    // Chrome 84 implements new version of spec.\n",
       "                    width = entry.contentBoxSize[0].inlineSize;\n",
       "                    height = entry.contentBoxSize[0].blockSize;\n",
       "                } else {\n",
       "                    // Firefox implements old version of spec.\n",
       "                    width = entry.contentBoxSize.inlineSize;\n",
       "                    height = entry.contentBoxSize.blockSize;\n",
       "                }\n",
       "            } else {\n",
       "                // Chrome <84 implements even older version of spec.\n",
       "                width = entry.contentRect.width;\n",
       "                height = entry.contentRect.height;\n",
       "            }\n",
       "\n",
       "            // Keep the size of the canvas and rubber band canvas in sync with\n",
       "            // the canvas container.\n",
       "            if (entry.devicePixelContentBoxSize) {\n",
       "                // Chrome 84 implements new version of spec.\n",
       "                canvas.setAttribute(\n",
       "                    'width',\n",
       "                    entry.devicePixelContentBoxSize[0].inlineSize\n",
       "                );\n",
       "                canvas.setAttribute(\n",
       "                    'height',\n",
       "                    entry.devicePixelContentBoxSize[0].blockSize\n",
       "                );\n",
       "            } else {\n",
       "                canvas.setAttribute('width', width * fig.ratio);\n",
       "                canvas.setAttribute('height', height * fig.ratio);\n",
       "            }\n",
       "            canvas.setAttribute(\n",
       "                'style',\n",
       "                'width: ' + width + 'px; height: ' + height + 'px;'\n",
       "            );\n",
       "\n",
       "            rubberband_canvas.setAttribute('width', width);\n",
       "            rubberband_canvas.setAttribute('height', height);\n",
       "\n",
       "            // And update the size in Python. We ignore the initial 0/0 size\n",
       "            // that occurs as the element is placed into the DOM, which should\n",
       "            // otherwise not happen due to the minimum size styling.\n",
       "            if (fig.ws.readyState == 1 && width != 0 && height != 0) {\n",
       "                fig.request_resize(width, height);\n",
       "            }\n",
       "        }\n",
       "    });\n",
       "    this.resizeObserverInstance.observe(canvas_div);\n",
       "\n",
       "    function on_mouse_event_closure(name) {\n",
       "        return function (event) {\n",
       "            return fig.mouse_event(event, name);\n",
       "        };\n",
       "    }\n",
       "\n",
       "    rubberband_canvas.addEventListener(\n",
       "        'mousedown',\n",
       "        on_mouse_event_closure('button_press')\n",
       "    );\n",
       "    rubberband_canvas.addEventListener(\n",
       "        'mouseup',\n",
       "        on_mouse_event_closure('button_release')\n",
       "    );\n",
       "    rubberband_canvas.addEventListener(\n",
       "        'dblclick',\n",
       "        on_mouse_event_closure('dblclick')\n",
       "    );\n",
       "    // Throttle sequential mouse events to 1 every 20ms.\n",
       "    rubberband_canvas.addEventListener(\n",
       "        'mousemove',\n",
       "        on_mouse_event_closure('motion_notify')\n",
       "    );\n",
       "\n",
       "    rubberband_canvas.addEventListener(\n",
       "        'mouseenter',\n",
       "        on_mouse_event_closure('figure_enter')\n",
       "    );\n",
       "    rubberband_canvas.addEventListener(\n",
       "        'mouseleave',\n",
       "        on_mouse_event_closure('figure_leave')\n",
       "    );\n",
       "\n",
       "    canvas_div.addEventListener('wheel', function (event) {\n",
       "        if (event.deltaY < 0) {\n",
       "            event.step = 1;\n",
       "        } else {\n",
       "            event.step = -1;\n",
       "        }\n",
       "        on_mouse_event_closure('scroll')(event);\n",
       "    });\n",
       "\n",
       "    canvas_div.appendChild(canvas);\n",
       "    canvas_div.appendChild(rubberband_canvas);\n",
       "\n",
       "    this.rubberband_context = rubberband_canvas.getContext('2d');\n",
       "    this.rubberband_context.strokeStyle = '#000000';\n",
       "\n",
       "    this._resize_canvas = function (width, height, forward) {\n",
       "        if (forward) {\n",
       "            canvas_div.style.width = width + 'px';\n",
       "            canvas_div.style.height = height + 'px';\n",
       "        }\n",
       "    };\n",
       "\n",
       "    // Disable right mouse context menu.\n",
       "    this.rubberband_canvas.addEventListener('contextmenu', function (_e) {\n",
       "        event.preventDefault();\n",
       "        return false;\n",
       "    });\n",
       "\n",
       "    function set_focus() {\n",
       "        canvas.focus();\n",
       "        canvas_div.focus();\n",
       "    }\n",
       "\n",
       "    window.setTimeout(set_focus, 100);\n",
       "};\n",
       "\n",
       "mpl.figure.prototype._init_toolbar = function () {\n",
       "    var fig = this;\n",
       "\n",
       "    var toolbar = document.createElement('div');\n",
       "    toolbar.classList = 'mpl-toolbar';\n",
       "    this.root.appendChild(toolbar);\n",
       "\n",
       "    function on_click_closure(name) {\n",
       "        return function (_event) {\n",
       "            return fig.toolbar_button_onclick(name);\n",
       "        };\n",
       "    }\n",
       "\n",
       "    function on_mouseover_closure(tooltip) {\n",
       "        return function (event) {\n",
       "            if (!event.currentTarget.disabled) {\n",
       "                return fig.toolbar_button_onmouseover(tooltip);\n",
       "            }\n",
       "        };\n",
       "    }\n",
       "\n",
       "    fig.buttons = {};\n",
       "    var buttonGroup = document.createElement('div');\n",
       "    buttonGroup.classList = 'mpl-button-group';\n",
       "    for (var toolbar_ind in mpl.toolbar_items) {\n",
       "        var name = mpl.toolbar_items[toolbar_ind][0];\n",
       "        var tooltip = mpl.toolbar_items[toolbar_ind][1];\n",
       "        var image = mpl.toolbar_items[toolbar_ind][2];\n",
       "        var method_name = mpl.toolbar_items[toolbar_ind][3];\n",
       "\n",
       "        if (!name) {\n",
       "            /* Instead of a spacer, we start a new button group. */\n",
       "            if (buttonGroup.hasChildNodes()) {\n",
       "                toolbar.appendChild(buttonGroup);\n",
       "            }\n",
       "            buttonGroup = document.createElement('div');\n",
       "            buttonGroup.classList = 'mpl-button-group';\n",
       "            continue;\n",
       "        }\n",
       "\n",
       "        var button = (fig.buttons[name] = document.createElement('button'));\n",
       "        button.classList = 'mpl-widget';\n",
       "        button.setAttribute('role', 'button');\n",
       "        button.setAttribute('aria-disabled', 'false');\n",
       "        button.addEventListener('click', on_click_closure(method_name));\n",
       "        button.addEventListener('mouseover', on_mouseover_closure(tooltip));\n",
       "\n",
       "        var icon_img = document.createElement('img');\n",
       "        icon_img.src = '_images/' + image + '.png';\n",
       "        icon_img.srcset = '_images/' + image + '_large.png 2x';\n",
       "        icon_img.alt = tooltip;\n",
       "        button.appendChild(icon_img);\n",
       "\n",
       "        buttonGroup.appendChild(button);\n",
       "    }\n",
       "\n",
       "    if (buttonGroup.hasChildNodes()) {\n",
       "        toolbar.appendChild(buttonGroup);\n",
       "    }\n",
       "\n",
       "    var fmt_picker = document.createElement('select');\n",
       "    fmt_picker.classList = 'mpl-widget';\n",
       "    toolbar.appendChild(fmt_picker);\n",
       "    this.format_dropdown = fmt_picker;\n",
       "\n",
       "    for (var ind in mpl.extensions) {\n",
       "        var fmt = mpl.extensions[ind];\n",
       "        var option = document.createElement('option');\n",
       "        option.selected = fmt === mpl.default_extension;\n",
       "        option.innerHTML = fmt;\n",
       "        fmt_picker.appendChild(option);\n",
       "    }\n",
       "\n",
       "    var status_bar = document.createElement('span');\n",
       "    status_bar.classList = 'mpl-message';\n",
       "    toolbar.appendChild(status_bar);\n",
       "    this.message = status_bar;\n",
       "};\n",
       "\n",
       "mpl.figure.prototype.request_resize = function (x_pixels, y_pixels) {\n",
       "    // Request matplotlib to resize the figure. Matplotlib will then trigger a resize in the client,\n",
       "    // which will in turn request a refresh of the image.\n",
       "    this.send_message('resize', { width: x_pixels, height: y_pixels });\n",
       "};\n",
       "\n",
       "mpl.figure.prototype.send_message = function (type, properties) {\n",
       "    properties['type'] = type;\n",
       "    properties['figure_id'] = this.id;\n",
       "    this.ws.send(JSON.stringify(properties));\n",
       "};\n",
       "\n",
       "mpl.figure.prototype.send_draw_message = function () {\n",
       "    if (!this.waiting) {\n",
       "        this.waiting = true;\n",
       "        this.ws.send(JSON.stringify({ type: 'draw', figure_id: this.id }));\n",
       "    }\n",
       "};\n",
       "\n",
       "mpl.figure.prototype.handle_save = function (fig, _msg) {\n",
       "    var format_dropdown = fig.format_dropdown;\n",
       "    var format = format_dropdown.options[format_dropdown.selectedIndex].value;\n",
       "    fig.ondownload(fig, format);\n",
       "};\n",
       "\n",
       "mpl.figure.prototype.handle_resize = function (fig, msg) {\n",
       "    var size = msg['size'];\n",
       "    if (size[0] !== fig.canvas.width || size[1] !== fig.canvas.height) {\n",
       "        fig._resize_canvas(size[0], size[1], msg['forward']);\n",
       "        fig.send_message('refresh', {});\n",
       "    }\n",
       "};\n",
       "\n",
       "mpl.figure.prototype.handle_rubberband = function (fig, msg) {\n",
       "    var x0 = msg['x0'] / fig.ratio;\n",
       "    var y0 = (fig.canvas.height - msg['y0']) / fig.ratio;\n",
       "    var x1 = msg['x1'] / fig.ratio;\n",
       "    var y1 = (fig.canvas.height - msg['y1']) / fig.ratio;\n",
       "    x0 = Math.floor(x0) + 0.5;\n",
       "    y0 = Math.floor(y0) + 0.5;\n",
       "    x1 = Math.floor(x1) + 0.5;\n",
       "    y1 = Math.floor(y1) + 0.5;\n",
       "    var min_x = Math.min(x0, x1);\n",
       "    var min_y = Math.min(y0, y1);\n",
       "    var width = Math.abs(x1 - x0);\n",
       "    var height = Math.abs(y1 - y0);\n",
       "\n",
       "    fig.rubberband_context.clearRect(\n",
       "        0,\n",
       "        0,\n",
       "        fig.canvas.width / fig.ratio,\n",
       "        fig.canvas.height / fig.ratio\n",
       "    );\n",
       "\n",
       "    fig.rubberband_context.strokeRect(min_x, min_y, width, height);\n",
       "};\n",
       "\n",
       "mpl.figure.prototype.handle_figure_label = function (fig, msg) {\n",
       "    // Updates the figure title.\n",
       "    fig.header.textContent = msg['label'];\n",
       "};\n",
       "\n",
       "mpl.figure.prototype.handle_cursor = function (fig, msg) {\n",
       "    var cursor = msg['cursor'];\n",
       "    switch (cursor) {\n",
       "        case 0:\n",
       "            cursor = 'pointer';\n",
       "            break;\n",
       "        case 1:\n",
       "            cursor = 'default';\n",
       "            break;\n",
       "        case 2:\n",
       "            cursor = 'crosshair';\n",
       "            break;\n",
       "        case 3:\n",
       "            cursor = 'move';\n",
       "            break;\n",
       "    }\n",
       "    fig.rubberband_canvas.style.cursor = cursor;\n",
       "};\n",
       "\n",
       "mpl.figure.prototype.handle_message = function (fig, msg) {\n",
       "    fig.message.textContent = msg['message'];\n",
       "};\n",
       "\n",
       "mpl.figure.prototype.handle_draw = function (fig, _msg) {\n",
       "    // Request the server to send over a new figure.\n",
       "    fig.send_draw_message();\n",
       "};\n",
       "\n",
       "mpl.figure.prototype.handle_image_mode = function (fig, msg) {\n",
       "    fig.image_mode = msg['mode'];\n",
       "};\n",
       "\n",
       "mpl.figure.prototype.handle_history_buttons = function (fig, msg) {\n",
       "    for (var key in msg) {\n",
       "        if (!(key in fig.buttons)) {\n",
       "            continue;\n",
       "        }\n",
       "        fig.buttons[key].disabled = !msg[key];\n",
       "        fig.buttons[key].setAttribute('aria-disabled', !msg[key]);\n",
       "    }\n",
       "};\n",
       "\n",
       "mpl.figure.prototype.handle_navigate_mode = function (fig, msg) {\n",
       "    if (msg['mode'] === 'PAN') {\n",
       "        fig.buttons['Pan'].classList.add('active');\n",
       "        fig.buttons['Zoom'].classList.remove('active');\n",
       "    } else if (msg['mode'] === 'ZOOM') {\n",
       "        fig.buttons['Pan'].classList.remove('active');\n",
       "        fig.buttons['Zoom'].classList.add('active');\n",
       "    } else {\n",
       "        fig.buttons['Pan'].classList.remove('active');\n",
       "        fig.buttons['Zoom'].classList.remove('active');\n",
       "    }\n",
       "};\n",
       "\n",
       "mpl.figure.prototype.updated_canvas_event = function () {\n",
       "    // Called whenever the canvas gets updated.\n",
       "    this.send_message('ack', {});\n",
       "};\n",
       "\n",
       "// A function to construct a web socket function for onmessage handling.\n",
       "// Called in the figure constructor.\n",
       "mpl.figure.prototype._make_on_message_function = function (fig) {\n",
       "    return function socket_on_message(evt) {\n",
       "        if (evt.data instanceof Blob) {\n",
       "            var img = evt.data;\n",
       "            if (img.type !== 'image/png') {\n",
       "                /* FIXME: We get \"Resource interpreted as Image but\n",
       "                 * transferred with MIME type text/plain:\" errors on\n",
       "                 * Chrome.  But how to set the MIME type?  It doesn't seem\n",
       "                 * to be part of the websocket stream */\n",
       "                img.type = 'image/png';\n",
       "            }\n",
       "\n",
       "            /* Free the memory for the previous frames */\n",
       "            if (fig.imageObj.src) {\n",
       "                (window.URL || window.webkitURL).revokeObjectURL(\n",
       "                    fig.imageObj.src\n",
       "                );\n",
       "            }\n",
       "\n",
       "            fig.imageObj.src = (window.URL || window.webkitURL).createObjectURL(\n",
       "                img\n",
       "            );\n",
       "            fig.updated_canvas_event();\n",
       "            fig.waiting = false;\n",
       "            return;\n",
       "        } else if (\n",
       "            typeof evt.data === 'string' &&\n",
       "            evt.data.slice(0, 21) === 'data:image/png;base64'\n",
       "        ) {\n",
       "            fig.imageObj.src = evt.data;\n",
       "            fig.updated_canvas_event();\n",
       "            fig.waiting = false;\n",
       "            return;\n",
       "        }\n",
       "\n",
       "        var msg = JSON.parse(evt.data);\n",
       "        var msg_type = msg['type'];\n",
       "\n",
       "        // Call the  \"handle_{type}\" callback, which takes\n",
       "        // the figure and JSON message as its only arguments.\n",
       "        try {\n",
       "            var callback = fig['handle_' + msg_type];\n",
       "        } catch (e) {\n",
       "            console.log(\n",
       "                \"No handler for the '\" + msg_type + \"' message type: \",\n",
       "                msg\n",
       "            );\n",
       "            return;\n",
       "        }\n",
       "\n",
       "        if (callback) {\n",
       "            try {\n",
       "                // console.log(\"Handling '\" + msg_type + \"' message: \", msg);\n",
       "                callback(fig, msg);\n",
       "            } catch (e) {\n",
       "                console.log(\n",
       "                    \"Exception inside the 'handler_\" + msg_type + \"' callback:\",\n",
       "                    e,\n",
       "                    e.stack,\n",
       "                    msg\n",
       "                );\n",
       "            }\n",
       "        }\n",
       "    };\n",
       "};\n",
       "\n",
       "// from http://stackoverflow.com/questions/1114465/getting-mouse-location-in-canvas\n",
       "mpl.findpos = function (e) {\n",
       "    //this section is from http://www.quirksmode.org/js/events_properties.html\n",
       "    var targ;\n",
       "    if (!e) {\n",
       "        e = window.event;\n",
       "    }\n",
       "    if (e.target) {\n",
       "        targ = e.target;\n",
       "    } else if (e.srcElement) {\n",
       "        targ = e.srcElement;\n",
       "    }\n",
       "    if (targ.nodeType === 3) {\n",
       "        // defeat Safari bug\n",
       "        targ = targ.parentNode;\n",
       "    }\n",
       "\n",
       "    // pageX,Y are the mouse positions relative to the document\n",
       "    var boundingRect = targ.getBoundingClientRect();\n",
       "    var x = e.pageX - (boundingRect.left + document.body.scrollLeft);\n",
       "    var y = e.pageY - (boundingRect.top + document.body.scrollTop);\n",
       "\n",
       "    return { x: x, y: y };\n",
       "};\n",
       "\n",
       "/*\n",
       " * return a copy of an object with only non-object keys\n",
       " * we need this to avoid circular references\n",
       " * http://stackoverflow.com/a/24161582/3208463\n",
       " */\n",
       "function simpleKeys(original) {\n",
       "    return Object.keys(original).reduce(function (obj, key) {\n",
       "        if (typeof original[key] !== 'object') {\n",
       "            obj[key] = original[key];\n",
       "        }\n",
       "        return obj;\n",
       "    }, {});\n",
       "}\n",
       "\n",
       "mpl.figure.prototype.mouse_event = function (event, name) {\n",
       "    var canvas_pos = mpl.findpos(event);\n",
       "\n",
       "    if (name === 'button_press') {\n",
       "        this.canvas.focus();\n",
       "        this.canvas_div.focus();\n",
       "    }\n",
       "\n",
       "    var x = canvas_pos.x * this.ratio;\n",
       "    var y = canvas_pos.y * this.ratio;\n",
       "\n",
       "    this.send_message(name, {\n",
       "        x: x,\n",
       "        y: y,\n",
       "        button: event.button,\n",
       "        step: event.step,\n",
       "        guiEvent: simpleKeys(event),\n",
       "    });\n",
       "\n",
       "    /* This prevents the web browser from automatically changing to\n",
       "     * the text insertion cursor when the button is pressed.  We want\n",
       "     * to control all of the cursor setting manually through the\n",
       "     * 'cursor' event from matplotlib */\n",
       "    event.preventDefault();\n",
       "    return false;\n",
       "};\n",
       "\n",
       "mpl.figure.prototype._key_event_extra = function (_event, _name) {\n",
       "    // Handle any extra behaviour associated with a key event\n",
       "};\n",
       "\n",
       "mpl.figure.prototype.key_event = function (event, name) {\n",
       "    // Prevent repeat events\n",
       "    if (name === 'key_press') {\n",
       "        if (event.key === this._key) {\n",
       "            return;\n",
       "        } else {\n",
       "            this._key = event.key;\n",
       "        }\n",
       "    }\n",
       "    if (name === 'key_release') {\n",
       "        this._key = null;\n",
       "    }\n",
       "\n",
       "    var value = '';\n",
       "    if (event.ctrlKey && event.key !== 'Control') {\n",
       "        value += 'ctrl+';\n",
       "    }\n",
       "    else if (event.altKey && event.key !== 'Alt') {\n",
       "        value += 'alt+';\n",
       "    }\n",
       "    else if (event.shiftKey && event.key !== 'Shift') {\n",
       "        value += 'shift+';\n",
       "    }\n",
       "\n",
       "    value += 'k' + event.key;\n",
       "\n",
       "    this._key_event_extra(event, name);\n",
       "\n",
       "    this.send_message(name, { key: value, guiEvent: simpleKeys(event) });\n",
       "    return false;\n",
       "};\n",
       "\n",
       "mpl.figure.prototype.toolbar_button_onclick = function (name) {\n",
       "    if (name === 'download') {\n",
       "        this.handle_save(this, null);\n",
       "    } else {\n",
       "        this.send_message('toolbar_button', { name: name });\n",
       "    }\n",
       "};\n",
       "\n",
       "mpl.figure.prototype.toolbar_button_onmouseover = function (tooltip) {\n",
       "    this.message.textContent = tooltip;\n",
       "};\n",
       "\n",
       "///////////////// REMAINING CONTENT GENERATED BY embed_js.py /////////////////\n",
       "// prettier-ignore\n",
       "var _JSXTOOLS_RESIZE_OBSERVER=function(A){var t,i=new WeakMap,n=new WeakMap,a=new WeakMap,r=new WeakMap,o=new Set;function s(e){if(!(this instanceof s))throw new TypeError(\"Constructor requires 'new' operator\");i.set(this,e)}function h(){throw new TypeError(\"Function is not a constructor\")}function c(e,t,i,n){e=0 in arguments?Number(arguments[0]):0,t=1 in arguments?Number(arguments[1]):0,i=2 in arguments?Number(arguments[2]):0,n=3 in arguments?Number(arguments[3]):0,this.right=(this.x=this.left=e)+(this.width=i),this.bottom=(this.y=this.top=t)+(this.height=n),Object.freeze(this)}function d(){t=requestAnimationFrame(d);var s=new WeakMap,p=new Set;o.forEach((function(t){r.get(t).forEach((function(i){var r=t instanceof window.SVGElement,o=a.get(t),d=r?0:parseFloat(o.paddingTop),f=r?0:parseFloat(o.paddingRight),l=r?0:parseFloat(o.paddingBottom),u=r?0:parseFloat(o.paddingLeft),g=r?0:parseFloat(o.borderTopWidth),m=r?0:parseFloat(o.borderRightWidth),w=r?0:parseFloat(o.borderBottomWidth),b=u+f,F=d+l,v=(r?0:parseFloat(o.borderLeftWidth))+m,W=g+w,y=r?0:t.offsetHeight-W-t.clientHeight,E=r?0:t.offsetWidth-v-t.clientWidth,R=b+v,z=F+W,M=r?t.width:parseFloat(o.width)-R-E,O=r?t.height:parseFloat(o.height)-z-y;if(n.has(t)){var k=n.get(t);if(k[0]===M&&k[1]===O)return}n.set(t,[M,O]);var S=Object.create(h.prototype);S.target=t,S.contentRect=new c(u,d,M,O),s.has(i)||(s.set(i,[]),p.add(i)),s.get(i).push(S)}))})),p.forEach((function(e){i.get(e).call(e,s.get(e),e)}))}return s.prototype.observe=function(i){if(i instanceof window.Element){r.has(i)||(r.set(i,new Set),o.add(i),a.set(i,window.getComputedStyle(i)));var n=r.get(i);n.has(this)||n.add(this),cancelAnimationFrame(t),t=requestAnimationFrame(d)}},s.prototype.unobserve=function(i){if(i instanceof window.Element&&r.has(i)){var n=r.get(i);n.has(this)&&(n.delete(this),n.size||(r.delete(i),o.delete(i))),n.size||r.delete(i),o.size||cancelAnimationFrame(t)}},A.DOMRectReadOnly=c,A.ResizeObserver=s,A.ResizeObserverEntry=h,A}; // eslint-disable-line\n",
       "mpl.toolbar_items = [[\"Home\", \"Reset original view\", \"fa fa-home icon-home\", \"home\"], [\"Back\", \"Back to previous view\", \"fa fa-arrow-left icon-arrow-left\", \"back\"], [\"Forward\", \"Forward to next view\", \"fa fa-arrow-right icon-arrow-right\", \"forward\"], [\"\", \"\", \"\", \"\"], [\"Pan\", \"Left button pans, Right button zooms\\nx/y fixes axis, CTRL fixes aspect\", \"fa fa-arrows icon-move\", \"pan\"], [\"Zoom\", \"Zoom to rectangle\\nx/y fixes axis, CTRL fixes aspect\", \"fa fa-square-o icon-check-empty\", \"zoom\"], [\"\", \"\", \"\", \"\"], [\"Download\", \"Download plot\", \"fa fa-floppy-o icon-save\", \"download\"]];\n",
       "\n",
       "mpl.extensions = [\"eps\", \"jpeg\", \"pgf\", \"pdf\", \"png\", \"ps\", \"raw\", \"svg\", \"tif\"];\n",
       "\n",
       "mpl.default_extension = \"png\";/* global mpl */\n",
       "\n",
       "var comm_websocket_adapter = function (comm) {\n",
       "    // Create a \"websocket\"-like object which calls the given IPython comm\n",
       "    // object with the appropriate methods. Currently this is a non binary\n",
       "    // socket, so there is still some room for performance tuning.\n",
       "    var ws = {};\n",
       "\n",
       "    ws.binaryType = comm.kernel.ws.binaryType;\n",
       "    ws.readyState = comm.kernel.ws.readyState;\n",
       "    function updateReadyState(_event) {\n",
       "        if (comm.kernel.ws) {\n",
       "            ws.readyState = comm.kernel.ws.readyState;\n",
       "        } else {\n",
       "            ws.readyState = 3; // Closed state.\n",
       "        }\n",
       "    }\n",
       "    comm.kernel.ws.addEventListener('open', updateReadyState);\n",
       "    comm.kernel.ws.addEventListener('close', updateReadyState);\n",
       "    comm.kernel.ws.addEventListener('error', updateReadyState);\n",
       "\n",
       "    ws.close = function () {\n",
       "        comm.close();\n",
       "    };\n",
       "    ws.send = function (m) {\n",
       "        //console.log('sending', m);\n",
       "        comm.send(m);\n",
       "    };\n",
       "    // Register the callback with on_msg.\n",
       "    comm.on_msg(function (msg) {\n",
       "        //console.log('receiving', msg['content']['data'], msg);\n",
       "        var data = msg['content']['data'];\n",
       "        if (data['blob'] !== undefined) {\n",
       "            data = {\n",
       "                data: new Blob(msg['buffers'], { type: data['blob'] }),\n",
       "            };\n",
       "        }\n",
       "        // Pass the mpl event to the overridden (by mpl) onmessage function.\n",
       "        ws.onmessage(data);\n",
       "    });\n",
       "    return ws;\n",
       "};\n",
       "\n",
       "mpl.mpl_figure_comm = function (comm, msg) {\n",
       "    // This is the function which gets called when the mpl process\n",
       "    // starts-up an IPython Comm through the \"matplotlib\" channel.\n",
       "\n",
       "    var id = msg.content.data.id;\n",
       "    // Get hold of the div created by the display call when the Comm\n",
       "    // socket was opened in Python.\n",
       "    var element = document.getElementById(id);\n",
       "    var ws_proxy = comm_websocket_adapter(comm);\n",
       "\n",
       "    function ondownload(figure, _format) {\n",
       "        window.open(figure.canvas.toDataURL());\n",
       "    }\n",
       "\n",
       "    var fig = new mpl.figure(id, ws_proxy, ondownload, element);\n",
       "\n",
       "    // Call onopen now - mpl needs it, as it is assuming we've passed it a real\n",
       "    // web socket which is closed, not our websocket->open comm proxy.\n",
       "    ws_proxy.onopen();\n",
       "\n",
       "    fig.parent_element = element;\n",
       "    fig.cell_info = mpl.find_output_cell(\"<div id='\" + id + \"'></div>\");\n",
       "    if (!fig.cell_info) {\n",
       "        console.error('Failed to find cell for figure', id, fig);\n",
       "        return;\n",
       "    }\n",
       "    fig.cell_info[0].output_area.element.on(\n",
       "        'cleared',\n",
       "        { fig: fig },\n",
       "        fig._remove_fig_handler\n",
       "    );\n",
       "};\n",
       "\n",
       "mpl.figure.prototype.handle_close = function (fig, msg) {\n",
       "    var width = fig.canvas.width / fig.ratio;\n",
       "    fig.cell_info[0].output_area.element.off(\n",
       "        'cleared',\n",
       "        fig._remove_fig_handler\n",
       "    );\n",
       "    fig.resizeObserverInstance.unobserve(fig.canvas_div);\n",
       "\n",
       "    // Update the output cell to use the data from the current canvas.\n",
       "    fig.push_to_output();\n",
       "    var dataURL = fig.canvas.toDataURL();\n",
       "    // Re-enable the keyboard manager in IPython - without this line, in FF,\n",
       "    // the notebook keyboard shortcuts fail.\n",
       "    IPython.keyboard_manager.enable();\n",
       "    fig.parent_element.innerHTML =\n",
       "        '<img src=\"' + dataURL + '\" width=\"' + width + '\">';\n",
       "    fig.close_ws(fig, msg);\n",
       "};\n",
       "\n",
       "mpl.figure.prototype.close_ws = function (fig, msg) {\n",
       "    fig.send_message('closing', msg);\n",
       "    // fig.ws.close()\n",
       "};\n",
       "\n",
       "mpl.figure.prototype.push_to_output = function (_remove_interactive) {\n",
       "    // Turn the data on the canvas into data in the output cell.\n",
       "    var width = this.canvas.width / this.ratio;\n",
       "    var dataURL = this.canvas.toDataURL();\n",
       "    this.cell_info[1]['text/html'] =\n",
       "        '<img src=\"' + dataURL + '\" width=\"' + width + '\">';\n",
       "};\n",
       "\n",
       "mpl.figure.prototype.updated_canvas_event = function () {\n",
       "    // Tell IPython that the notebook contents must change.\n",
       "    IPython.notebook.set_dirty(true);\n",
       "    this.send_message('ack', {});\n",
       "    var fig = this;\n",
       "    // Wait a second, then push the new image to the DOM so\n",
       "    // that it is saved nicely (might be nice to debounce this).\n",
       "    setTimeout(function () {\n",
       "        fig.push_to_output();\n",
       "    }, 1000);\n",
       "};\n",
       "\n",
       "mpl.figure.prototype._init_toolbar = function () {\n",
       "    var fig = this;\n",
       "\n",
       "    var toolbar = document.createElement('div');\n",
       "    toolbar.classList = 'btn-toolbar';\n",
       "    this.root.appendChild(toolbar);\n",
       "\n",
       "    function on_click_closure(name) {\n",
       "        return function (_event) {\n",
       "            return fig.toolbar_button_onclick(name);\n",
       "        };\n",
       "    }\n",
       "\n",
       "    function on_mouseover_closure(tooltip) {\n",
       "        return function (event) {\n",
       "            if (!event.currentTarget.disabled) {\n",
       "                return fig.toolbar_button_onmouseover(tooltip);\n",
       "            }\n",
       "        };\n",
       "    }\n",
       "\n",
       "    fig.buttons = {};\n",
       "    var buttonGroup = document.createElement('div');\n",
       "    buttonGroup.classList = 'btn-group';\n",
       "    var button;\n",
       "    for (var toolbar_ind in mpl.toolbar_items) {\n",
       "        var name = mpl.toolbar_items[toolbar_ind][0];\n",
       "        var tooltip = mpl.toolbar_items[toolbar_ind][1];\n",
       "        var image = mpl.toolbar_items[toolbar_ind][2];\n",
       "        var method_name = mpl.toolbar_items[toolbar_ind][3];\n",
       "\n",
       "        if (!name) {\n",
       "            /* Instead of a spacer, we start a new button group. */\n",
       "            if (buttonGroup.hasChildNodes()) {\n",
       "                toolbar.appendChild(buttonGroup);\n",
       "            }\n",
       "            buttonGroup = document.createElement('div');\n",
       "            buttonGroup.classList = 'btn-group';\n",
       "            continue;\n",
       "        }\n",
       "\n",
       "        button = fig.buttons[name] = document.createElement('button');\n",
       "        button.classList = 'btn btn-default';\n",
       "        button.href = '#';\n",
       "        button.title = name;\n",
       "        button.innerHTML = '<i class=\"fa ' + image + ' fa-lg\"></i>';\n",
       "        button.addEventListener('click', on_click_closure(method_name));\n",
       "        button.addEventListener('mouseover', on_mouseover_closure(tooltip));\n",
       "        buttonGroup.appendChild(button);\n",
       "    }\n",
       "\n",
       "    if (buttonGroup.hasChildNodes()) {\n",
       "        toolbar.appendChild(buttonGroup);\n",
       "    }\n",
       "\n",
       "    // Add the status bar.\n",
       "    var status_bar = document.createElement('span');\n",
       "    status_bar.classList = 'mpl-message pull-right';\n",
       "    toolbar.appendChild(status_bar);\n",
       "    this.message = status_bar;\n",
       "\n",
       "    // Add the close button to the window.\n",
       "    var buttongrp = document.createElement('div');\n",
       "    buttongrp.classList = 'btn-group inline pull-right';\n",
       "    button = document.createElement('button');\n",
       "    button.classList = 'btn btn-mini btn-primary';\n",
       "    button.href = '#';\n",
       "    button.title = 'Stop Interaction';\n",
       "    button.innerHTML = '<i class=\"fa fa-power-off icon-remove icon-large\"></i>';\n",
       "    button.addEventListener('click', function (_evt) {\n",
       "        fig.handle_close(fig, {});\n",
       "    });\n",
       "    button.addEventListener(\n",
       "        'mouseover',\n",
       "        on_mouseover_closure('Stop Interaction')\n",
       "    );\n",
       "    buttongrp.appendChild(button);\n",
       "    var titlebar = this.root.querySelector('.ui-dialog-titlebar');\n",
       "    titlebar.insertBefore(buttongrp, titlebar.firstChild);\n",
       "};\n",
       "\n",
       "mpl.figure.prototype._remove_fig_handler = function (event) {\n",
       "    var fig = event.data.fig;\n",
       "    if (event.target !== this) {\n",
       "        // Ignore bubbled events from children.\n",
       "        return;\n",
       "    }\n",
       "    fig.close_ws(fig, {});\n",
       "};\n",
       "\n",
       "mpl.figure.prototype._root_extra_style = function (el) {\n",
       "    el.style.boxSizing = 'content-box'; // override notebook setting of border-box.\n",
       "};\n",
       "\n",
       "mpl.figure.prototype._canvas_extra_style = function (el) {\n",
       "    // this is important to make the div 'focusable\n",
       "    el.setAttribute('tabindex', 0);\n",
       "    // reach out to IPython and tell the keyboard manager to turn it's self\n",
       "    // off when our div gets focus\n",
       "\n",
       "    // location in version 3\n",
       "    if (IPython.notebook.keyboard_manager) {\n",
       "        IPython.notebook.keyboard_manager.register_events(el);\n",
       "    } else {\n",
       "        // location in version 2\n",
       "        IPython.keyboard_manager.register_events(el);\n",
       "    }\n",
       "};\n",
       "\n",
       "mpl.figure.prototype._key_event_extra = function (event, _name) {\n",
       "    var manager = IPython.notebook.keyboard_manager;\n",
       "    if (!manager) {\n",
       "        manager = IPython.keyboard_manager;\n",
       "    }\n",
       "\n",
       "    // Check for shift+enter\n",
       "    if (event.shiftKey && event.which === 13) {\n",
       "        this.canvas_div.blur();\n",
       "        // select the cell after this one\n",
       "        var index = IPython.notebook.find_cell_index(this.cell_info[0]);\n",
       "        IPython.notebook.select(index + 1);\n",
       "    }\n",
       "};\n",
       "\n",
       "mpl.figure.prototype.handle_save = function (fig, _msg) {\n",
       "    fig.ondownload(fig, null);\n",
       "};\n",
       "\n",
       "mpl.find_output_cell = function (html_output) {\n",
       "    // Return the cell and output element which can be found *uniquely* in the notebook.\n",
       "    // Note - this is a bit hacky, but it is done because the \"notebook_saving.Notebook\"\n",
       "    // IPython event is triggered only after the cells have been serialised, which for\n",
       "    // our purposes (turning an active figure into a static one), is too late.\n",
       "    var cells = IPython.notebook.get_cells();\n",
       "    var ncells = cells.length;\n",
       "    for (var i = 0; i < ncells; i++) {\n",
       "        var cell = cells[i];\n",
       "        if (cell.cell_type === 'code') {\n",
       "            for (var j = 0; j < cell.output_area.outputs.length; j++) {\n",
       "                var data = cell.output_area.outputs[j];\n",
       "                if (data.data) {\n",
       "                    // IPython >= 3 moved mimebundle to data attribute of output\n",
       "                    data = data.data;\n",
       "                }\n",
       "                if (data['text/html'] === html_output) {\n",
       "                    return [cell, data, j];\n",
       "                }\n",
       "            }\n",
       "        }\n",
       "    }\n",
       "};\n",
       "\n",
       "// Register the function which deals with the matplotlib target/channel.\n",
       "// The kernel may be null if the page has been refreshed.\n",
       "if (IPython.notebook.kernel !== null) {\n",
       "    IPython.notebook.kernel.comm_manager.register_target(\n",
       "        'matplotlib',\n",
       "        mpl.mpl_figure_comm\n",
       "    );\n",
       "}\n"
      ],
      "text/plain": [
       "<IPython.core.display.Javascript object>"
      ]
     },
     "metadata": {},
     "output_type": "display_data"
    },
    {
     "data": {
      "text/html": [
       "<img src=\"data:image/png;base64,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\" width=\"640\">"
      ],
      "text/plain": [
       "<IPython.core.display.HTML object>"
      ]
     },
     "metadata": {},
     "output_type": "display_data"
    },
    {
     "data": {
      "text/plain": [
       "<AxesSubplot:>"
      ]
     },
     "execution_count": 5,
     "metadata": {},
     "output_type": "execute_result"
    }
   ],
   "source": [
    "%matplotlib notebook\n",
    "data.plot.box()"
   ]
  },
  {
   "cell_type": "code",
   "execution_count": 13,
   "id": "a35d1ef9",
   "metadata": {},
   "outputs": [
    {
     "data": {
      "text/plain": [
       "<AxesSubplot:>"
      ]
     },
     "execution_count": 13,
     "metadata": {},
     "output_type": "execute_result"
    },
    {
     "data": {
      "image/png": "[encoded data removed]",
      "text/plain": [
       "<Figure size 432x288 with 1 Axes>"
      ]
     },
     "metadata": {
      "needs_background": "light"
     },
     "output_type": "display_data"
    }
   ],
   "source": [
    "# Outliers in Auxillary nodes, removing them from data\n",
    "\n",
    "maximum = 4 + 1.5*(4-0)\n",
    "new_data = data[data[\"Auxillary nodes\"] <= maximum]\n",
    "new_data.plot.box()"
   ]
  },
  {
   "cell_type": "code",
   "execution_count": 7,
   "id": "3d96a611",
   "metadata": {},
   "outputs": [
    {
     "data": {
      "text/html": [
       "<div>\n",
       "<style scoped>\n",
       "    .dataframe tbody tr th:only-of-type {\n",
       "        vertical-align: middle;\n",
       "    }\n",
       "\n",
       "    .dataframe tbody tr th {\n",
       "        vertical-align: top;\n",
       "    }\n",
       "\n",
       "    .dataframe thead th {\n",
       "        text-align: right;\n",
       "    }\n",
       "</style>\n",
       "<table border=\"1\" class=\"dataframe\">\n",
       "  <thead>\n",
       "    <tr style=\"text-align: right;\">\n",
       "      <th></th>\n",
       "      <th>Age</th>\n",
       "      <th>Year</th>\n",
       "      <th>Auxillary nodes</th>\n",
       "      <th>Survival</th>\n",
       "    </tr>\n",
       "  </thead>\n",
       "  <tbody>\n",
       "    <tr>\n",
       "      <th>Age</th>\n",
       "      <td>1.000000</td>\n",
       "      <td>0.092426</td>\n",
       "      <td>-0.108307</td>\n",
       "      <td>0.059688</td>\n",
       "    </tr>\n",
       "    <tr>\n",
       "      <th>Year</th>\n",
       "      <td>0.092426</td>\n",
       "      <td>1.000000</td>\n",
       "      <td>-0.006921</td>\n",
       "      <td>0.031328</td>\n",
       "    </tr>\n",
       "    <tr>\n",
       "      <th>Auxillary nodes</th>\n",
       "      <td>-0.108307</td>\n",
       "      <td>-0.006921</td>\n",
       "      <td>1.000000</td>\n",
       "      <td>0.236411</td>\n",
       "    </tr>\n",
       "    <tr>\n",
       "      <th>Survival</th>\n",
       "      <td>0.059688</td>\n",
       "      <td>0.031328</td>\n",
       "      <td>0.236411</td>\n",
       "      <td>1.000000</td>\n",
       "    </tr>\n",
       "  </tbody>\n",
       "</table>\n",
       "</div>"
      ],
      "text/plain": [
       "                      Age      Year  Auxillary nodes  Survival \n",
       "Age              1.000000  0.092426        -0.108307   0.059688\n",
       "Year             0.092426  1.000000        -0.006921   0.031328\n",
       "Auxillary nodes -0.108307 -0.006921         1.000000   0.236411\n",
       "Survival         0.059688  0.031328         0.236411   1.000000"
      ]
     },
     "execution_count": 7,
     "metadata": {},
     "output_type": "execute_result"
    }
   ],
   "source": [
    "corr=new_data.corr()\n",
    "corr"
   ]
  },
  {
   "cell_type": "code",
   "execution_count": 12,
   "id": "f5628cdc",
   "metadata": {},
   "outputs": [
    {
     "data": {
      "image/png": "[encoded data removed]",
      "text/plain": [
       "<Figure size 432x288 with 2 Axes>"
      ]
     },
     "metadata": {
      "needs_background": "light"
     },
     "output_type": "display_data"
    }
   ],
   "source": [
    "%matplotlib inline\n",
    "import seaborn as sns\n",
    "import matplotlib.pyplot as plt\n",
    "sns.heatmap(corr)\n",
    "plt.show()"
   ]
  },
  {
   "cell_type": "code",
   "execution_count": 14,
   "id": "ef809dd8",
   "metadata": {},
   "outputs": [
    {
     "data": {
      "text/plain": [
       "array([[<AxesSubplot:title={'center':'Age'}>,\n",
       "        <AxesSubplot:title={'center':'Year'}>],\n",
       "       [<AxesSubplot:title={'center':'Auxillary nodes'}>,\n",
       "        <AxesSubplot:title={'center':'Survival '}>]], dtype=object)"
      ]
     },
     "execution_count": 14,
     "metadata": {},
     "output_type": "execute_result"
    },
    {
     "data": {
      "image/png": "[encoded data removed]",
      "text/plain": [
       "<Figure size 432x288 with 4 Axes>"
      ]
     },
     "metadata": {
      "needs_background": "light"
     },
     "output_type": "display_data"
    }
   ],
   "source": [
    "# No variables present which are highly correlated in the heatmap, so we are not removing any variables and cannot rely on this\n",
    "\n",
    "# Now we will understand the skewness\n",
    "\n",
    "new_data.hist()"
   ]
  },
  {
   "cell_type": "code",
   "execution_count": 33,
   "id": "f9a78d6c",
   "metadata": {},
   "outputs": [
    {
     "name": "stderr",
     "output_type": "stream",
     "text": [
      "C:\\Users\\RAJAGO~1\\AppData\\Local\\Temp/ipykernel_7256/2695375466.py:3: SettingWithCopyWarning: \n",
      "A value is trying to be set on a copy of a slice from a DataFrame.\n",
      "Try using .loc[row_indexer,col_indexer] = value instead\n",
      "\n",
      "See the caveats in the documentation: https://pandas.pydata.org/pandas-docs/stable/user_guide/indexing.html#returning-a-view-versus-a-copy\n",
      "  new_data[\"Year\"] = new_data[\"Year\"]**(0.5)\n"
     ]
    },
    {
     "data": {
      "text/plain": [
       "array([[<AxesSubplot:title={'center':'Age'}>,\n",
       "        <AxesSubplot:title={'center':'Year'}>],\n",
       "       [<AxesSubplot:title={'center':'Auxillary nodes'}>,\n",
       "        <AxesSubplot:title={'center':'Survival '}>]], dtype=object)"
      ]
     },
     "execution_count": 33,
     "metadata": {},
     "output_type": "execute_result"
    },
    {
     "data": {
      "image/png": "[encoded data removed]",
      "text/plain": [
       "<Figure size 432x288 with 4 Axes>"
      ]
     },
     "metadata": {
      "needs_background": "light"
     },
     "output_type": "display_data"
    }
   ],
   "source": [
    "#Removing skewness\n",
    "\n",
    "new_data[\"Year\"] = new_data[\"Year\"]**(0.5)\n",
    "new_data.hist()"
   ]
  },
  {
   "cell_type": "code",
   "execution_count": 17,
   "id": "6ca9336f",
   "metadata": {},
   "outputs": [
    {
     "data": {
      "text/html": [
       "<div>\n",
       "<style scoped>\n",
       "    .dataframe tbody tr th:only-of-type {\n",
       "        vertical-align: middle;\n",
       "    }\n",
       "\n",
       "    .dataframe tbody tr th {\n",
       "        vertical-align: top;\n",
       "    }\n",
       "\n",
       "    .dataframe thead th {\n",
       "        text-align: right;\n",
       "    }\n",
       "</style>\n",
       "<table border=\"1\" class=\"dataframe\">\n",
       "  <thead>\n",
       "    <tr style=\"text-align: right;\">\n",
       "      <th></th>\n",
       "      <th>Age</th>\n",
       "      <th>Year</th>\n",
       "      <th>Auxillary nodes</th>\n",
       "      <th>Survival</th>\n",
       "    </tr>\n",
       "  </thead>\n",
       "  <tbody>\n",
       "    <tr>\n",
       "      <th>0</th>\n",
       "      <td>-2.078151</td>\n",
       "      <td>-0.258085</td>\n",
       "      <td>0.507659</td>\n",
       "      <td>-0.529333</td>\n",
       "    </tr>\n",
       "    <tr>\n",
       "      <th>1</th>\n",
       "      <td>-2.078151</td>\n",
       "      <td>0.661993</td>\n",
       "      <td>-0.672425</td>\n",
       "      <td>-0.529333</td>\n",
       "    </tr>\n",
       "    <tr>\n",
       "      <th>2</th>\n",
       "      <td>-1.986534</td>\n",
       "      <td>-1.178162</td>\n",
       "      <td>0.114297</td>\n",
       "      <td>-0.529333</td>\n",
       "    </tr>\n",
       "    <tr>\n",
       "      <th>3</th>\n",
       "      <td>-1.986534</td>\n",
       "      <td>0.661993</td>\n",
       "      <td>0.901020</td>\n",
       "      <td>-0.529333</td>\n",
       "    </tr>\n",
       "    <tr>\n",
       "      <th>4</th>\n",
       "      <td>-1.803300</td>\n",
       "      <td>-1.484854</td>\n",
       "      <td>3.261188</td>\n",
       "      <td>-0.529333</td>\n",
       "    </tr>\n",
       "    <tr>\n",
       "      <th>...</th>\n",
       "      <td>...</td>\n",
       "      <td>...</td>\n",
       "      <td>...</td>\n",
       "      <td>...</td>\n",
       "    </tr>\n",
       "    <tr>\n",
       "      <th>260</th>\n",
       "      <td>2.044615</td>\n",
       "      <td>-0.258085</td>\n",
       "      <td>-0.279064</td>\n",
       "      <td>-0.529333</td>\n",
       "    </tr>\n",
       "    <tr>\n",
       "      <th>261</th>\n",
       "      <td>2.136233</td>\n",
       "      <td>1.275378</td>\n",
       "      <td>-0.672425</td>\n",
       "      <td>-0.529333</td>\n",
       "    </tr>\n",
       "    <tr>\n",
       "      <th>262</th>\n",
       "      <td>2.227850</td>\n",
       "      <td>0.661993</td>\n",
       "      <td>0.507659</td>\n",
       "      <td>-0.529333</td>\n",
       "    </tr>\n",
       "    <tr>\n",
       "      <th>263</th>\n",
       "      <td>2.319467</td>\n",
       "      <td>0.661993</td>\n",
       "      <td>-0.279064</td>\n",
       "      <td>1.889171</td>\n",
       "    </tr>\n",
       "    <tr>\n",
       "      <th>264</th>\n",
       "      <td>2.777552</td>\n",
       "      <td>-1.484854</td>\n",
       "      <td>0.114297</td>\n",
       "      <td>1.889171</td>\n",
       "    </tr>\n",
       "  </tbody>\n",
       "</table>\n",
       "<p>265 rows × 4 columns</p>\n",
       "</div>"
      ],
      "text/plain": [
       "          Age      Year  Auxillary nodes  Survival \n",
       "0   -2.078151 -0.258085         0.507659  -0.529333\n",
       "1   -2.078151  0.661993        -0.672425  -0.529333\n",
       "2   -1.986534 -1.178162         0.114297  -0.529333\n",
       "3   -1.986534  0.661993         0.901020  -0.529333\n",
       "4   -1.803300 -1.484854         3.261188  -0.529333\n",
       "..        ...       ...              ...        ...\n",
       "260  2.044615 -0.258085        -0.279064  -0.529333\n",
       "261  2.136233  1.275378        -0.672425  -0.529333\n",
       "262  2.227850  0.661993         0.507659  -0.529333\n",
       "263  2.319467  0.661993        -0.279064   1.889171\n",
       "264  2.777552 -1.484854         0.114297   1.889171\n",
       "\n",
       "[265 rows x 4 columns]"
      ]
     },
     "execution_count": 17,
     "metadata": {},
     "output_type": "execute_result"
    }
   ],
   "source": [
    "#Standardisation\n",
    "from sklearn.preprocessing import StandardScaler\n",
    "from sklearn.preprocessing import MinMaxScaler\n",
    "\n",
    "scaler = StandardScaler()\n",
    "scaler.fit(new_data)\n",
    "scaled = scaler.fit_transform(new_data)\n",
    "scaled_data = pd.DataFrame(scaled, columns = new_data.columns)\n",
    "\n",
    "scaled_data"
   ]
  },
  {
   "cell_type": "code",
   "execution_count": 36,
   "id": "0c6e6f0d",
   "metadata": {},
   "outputs": [
    {
     "data": {
      "text/plain": [
       "array([[<AxesSubplot:title={'center':'Age'}>,\n",
       "        <AxesSubplot:title={'center':'Year'}>],\n",
       "       [<AxesSubplot:title={'center':'Auxillary nodes'}>,\n",
       "        <AxesSubplot:title={'center':'Survival '}>]], dtype=object)"
      ]
     },
     "execution_count": 36,
     "metadata": {},
     "output_type": "execute_result"
    },
    {
     "data": {
      "image/png": "[encoded data removed]",
      "text/plain": [
       "<Figure size 432x288 with 4 Axes>"
      ]
     },
     "metadata": {
      "needs_background": "light"
     },
     "output_type": "display_data"
    }
   ],
   "source": [
    "scaled_data.hist()"
   ]
  },
  {
   "cell_type": "code",
   "execution_count": 25,
   "id": "4a294c91",
   "metadata": {},
   "outputs": [
    {
     "data": {
      "text/plain": [
       "<seaborn.axisgrid.FacetGrid at 0x1aaafaee6d0>"
      ]
     },
     "execution_count": 25,
     "metadata": {},
     "output_type": "execute_result"
    },
    {
     "data": {
      "image/png": "[encoded data removed]",
      "text/plain": [
       "<Figure size 408.75x360 with 1 Axes>"
      ]
     },
     "metadata": {
      "needs_background": "light"
     },
     "output_type": "display_data"
    }
   ],
   "source": [
    "# Tried to see how the data is distributed/related\n",
    "#sns.relplot(x='Auxillary nodes', y='Age', hue = 'Year', data = new_data)"
   ]
  },
  {
   "cell_type": "code",
   "execution_count": 19,
   "id": "4c831d3f",
   "metadata": {},
   "outputs": [
    {
     "data": {
      "text/html": [
       "<div>\n",
       "<style scoped>\n",
       "    .dataframe tbody tr th:only-of-type {\n",
       "        vertical-align: middle;\n",
       "    }\n",
       "\n",
       "    .dataframe tbody tr th {\n",
       "        vertical-align: top;\n",
       "    }\n",
       "\n",
       "    .dataframe thead th {\n",
       "        text-align: right;\n",
       "    }\n",
       "</style>\n",
       "<table border=\"1\" class=\"dataframe\">\n",
       "  <thead>\n",
       "    <tr style=\"text-align: right;\">\n",
       "      <th></th>\n",
       "      <th>Age</th>\n",
       "      <th>Year</th>\n",
       "      <th>Auxillary nodes</th>\n",
       "      <th>Survival</th>\n",
       "    </tr>\n",
       "  </thead>\n",
       "  <tbody>\n",
       "    <tr>\n",
       "      <th>0</th>\n",
       "      <td>-2.078151</td>\n",
       "      <td>-0.258085</td>\n",
       "      <td>0.507659</td>\n",
       "      <td>-0.529333</td>\n",
       "    </tr>\n",
       "    <tr>\n",
       "      <th>1</th>\n",
       "      <td>-2.078151</td>\n",
       "      <td>0.661993</td>\n",
       "      <td>-0.672425</td>\n",
       "      <td>-0.529333</td>\n",
       "    </tr>\n",
       "    <tr>\n",
       "      <th>2</th>\n",
       "      <td>-1.986534</td>\n",
       "      <td>-1.178162</td>\n",
       "      <td>0.114297</td>\n",
       "      <td>-0.529333</td>\n",
       "    </tr>\n",
       "    <tr>\n",
       "      <th>3</th>\n",
       "      <td>-1.986534</td>\n",
       "      <td>0.661993</td>\n",
       "      <td>0.901020</td>\n",
       "      <td>-0.529333</td>\n",
       "    </tr>\n",
       "    <tr>\n",
       "      <th>4</th>\n",
       "      <td>-1.803300</td>\n",
       "      <td>-1.484854</td>\n",
       "      <td>3.261188</td>\n",
       "      <td>-0.529333</td>\n",
       "    </tr>\n",
       "    <tr>\n",
       "      <th>...</th>\n",
       "      <td>...</td>\n",
       "      <td>...</td>\n",
       "      <td>...</td>\n",
       "      <td>...</td>\n",
       "    </tr>\n",
       "    <tr>\n",
       "      <th>260</th>\n",
       "      <td>2.044615</td>\n",
       "      <td>-0.258085</td>\n",
       "      <td>-0.279064</td>\n",
       "      <td>-0.529333</td>\n",
       "    </tr>\n",
       "    <tr>\n",
       "      <th>261</th>\n",
       "      <td>2.136233</td>\n",
       "      <td>1.275378</td>\n",
       "      <td>-0.672425</td>\n",
       "      <td>-0.529333</td>\n",
       "    </tr>\n",
       "    <tr>\n",
       "      <th>262</th>\n",
       "      <td>2.227850</td>\n",
       "      <td>0.661993</td>\n",
       "      <td>0.507659</td>\n",
       "      <td>-0.529333</td>\n",
       "    </tr>\n",
       "    <tr>\n",
       "      <th>263</th>\n",
       "      <td>2.319467</td>\n",
       "      <td>0.661993</td>\n",
       "      <td>-0.279064</td>\n",
       "      <td>1.889171</td>\n",
       "    </tr>\n",
       "    <tr>\n",
       "      <th>264</th>\n",
       "      <td>2.777552</td>\n",
       "      <td>-1.484854</td>\n",
       "      <td>0.114297</td>\n",
       "      <td>1.889171</td>\n",
       "    </tr>\n",
       "  </tbody>\n",
       "</table>\n",
       "<p>265 rows × 4 columns</p>\n",
       "</div>"
      ],
      "text/plain": [
       "          Age      Year  Auxillary nodes  Survival \n",
       "0   -2.078151 -0.258085         0.507659  -0.529333\n",
       "1   -2.078151  0.661993        -0.672425  -0.529333\n",
       "2   -1.986534 -1.178162         0.114297  -0.529333\n",
       "3   -1.986534  0.661993         0.901020  -0.529333\n",
       "4   -1.803300 -1.484854         3.261188  -0.529333\n",
       "..        ...       ...              ...        ...\n",
       "260  2.044615 -0.258085        -0.279064  -0.529333\n",
       "261  2.136233  1.275378        -0.672425  -0.529333\n",
       "262  2.227850  0.661993         0.507659  -0.529333\n",
       "263  2.319467  0.661993        -0.279064   1.889171\n",
       "264  2.777552 -1.484854         0.114297   1.889171\n",
       "\n",
       "[265 rows x 4 columns]"
      ]
     },
     "execution_count": 19,
     "metadata": {},
     "output_type": "execute_result"
    }
   ],
   "source": [
    "# Normalisation\n",
    "from sklearn.preprocessing import MinMaxScaler\n",
    "\n",
    "scaler = MinMaxScaler()\n",
    "scaler.fit(new_data)\n",
    "scaled = scaler.fit_transform(new_data)\n",
    "scaled_data = pd.DataFrame(scaled, columns = new_data.columns)\n",
    "\n",
    "scaled_data"
   ]
  },
  {
   "cell_type": "code",
   "execution_count": 35,
   "id": "2bd58056",
   "metadata": {},
   "outputs": [
    {
     "data": {
      "text/plain": [
       "array([[<AxesSubplot:title={'center':'Age'}>,\n",
       "        <AxesSubplot:title={'center':'Year'}>],\n",
       "       [<AxesSubplot:title={'center':'Auxillary nodes'}>,\n",
       "        <AxesSubplot:title={'center':'Survival '}>]], dtype=object)"
      ]
     },
     "execution_count": 35,
     "metadata": {},
     "output_type": "execute_result"
    },
    {
     "data": {
      "image/png": "[encoded data removed]",
      "text/plain": [
       "<Figure size 432x288 with 4 Axes>"
      ]
     },
     "metadata": {
      "needs_background": "light"
     },
     "output_type": "display_data"
    }
   ],
   "source": [
    "scaled_data.hist()"
   ]
  },
  {
   "cell_type": "markdown",
   "id": "1a13ba69",
   "metadata": {},
   "source": [
    "# What can you conclude from methods of central tendency and deviation of the variables?\n",
    "    ##### We can see that there are outliers in variable - Auxillary nodes and hence removing them might help in understanding better.\n",
    "    ##### There is a big difference between the highest and the lowest value. \n",
    "\n",
    "# Are there any correlated variables?\n",
    "    #### No variables present which are highly correlated in the heatmap, so we cannot rely on this\n",
    "\n",
    "# Interpret the skewness of the variables.\n",
    "    #### We see that there is positive skewness on all the data, removing outliers also we see the same visulaization. No changes.\n"
   ]
  },
  {
   "cell_type": "code",
   "execution_count": null,
   "id": "506008ec",
   "metadata": {},
   "outputs": [],
   "source": []
  },
  {
   "cell_type": "markdown",
   "id": "bf50734f",
   "metadata": {},
   "source": [
    "#QUESTION 2"
   ]
  },
  {
   "cell_type": "code",
   "execution_count": 121,
   "id": "de4857d5",
   "metadata": {},
   "outputs": [],
   "source": [
    "#SLM\n",
    "\n",
    "import pandas as pd\n",
    "import numpy as np\n",
    "import matplotlib.pyplot as plt\n",
    "import seaborn as sns\n",
    "import math\n",
    "from sklearn import linear_model\n",
    "from sklearn.model_selection import KFold, GridSearchCV\n",
    "from sklearn.preprocessing import StandardScaler\n",
    "from sklearn.preprocessing import MinMaxScaler\n",
    "from sklearn.metrics import roc_auc_score, plot_roc_curve\n",
    "\n",
    "\n",
    "\n",
    "from sklearn.neural_network import MLPClassifier\n",
    "\n",
    "%matplotlib inline"
   ]
  },
  {
   "cell_type": "code",
   "execution_count": 105,
   "id": "63e8d20c",
   "metadata": {},
   "outputs": [
    {
     "data": {
      "text/html": [
       "<div>\n",
       "<style scoped>\n",
       "    .dataframe tbody tr th:only-of-type {\n",
       "        vertical-align: middle;\n",
       "    }\n",
       "\n",
       "    .dataframe tbody tr th {\n",
       "        vertical-align: top;\n",
       "    }\n",
       "\n",
       "    .dataframe thead th {\n",
       "        text-align: right;\n",
       "    }\n",
       "</style>\n",
       "<table border=\"1\" class=\"dataframe\">\n",
       "  <thead>\n",
       "    <tr style=\"text-align: right;\">\n",
       "      <th></th>\n",
       "      <th>Age</th>\n",
       "      <th>Year</th>\n",
       "      <th>Auxillary nodes</th>\n",
       "      <th>Survival</th>\n",
       "    </tr>\n",
       "  </thead>\n",
       "  <tbody>\n",
       "    <tr>\n",
       "      <th>0</th>\n",
       "      <td>30</td>\n",
       "      <td>62</td>\n",
       "      <td>3</td>\n",
       "      <td>1</td>\n",
       "    </tr>\n",
       "    <tr>\n",
       "      <th>1</th>\n",
       "      <td>30</td>\n",
       "      <td>65</td>\n",
       "      <td>0</td>\n",
       "      <td>1</td>\n",
       "    </tr>\n",
       "    <tr>\n",
       "      <th>2</th>\n",
       "      <td>31</td>\n",
       "      <td>59</td>\n",
       "      <td>2</td>\n",
       "      <td>1</td>\n",
       "    </tr>\n",
       "    <tr>\n",
       "      <th>3</th>\n",
       "      <td>31</td>\n",
       "      <td>65</td>\n",
       "      <td>4</td>\n",
       "      <td>1</td>\n",
       "    </tr>\n",
       "    <tr>\n",
       "      <th>4</th>\n",
       "      <td>33</td>\n",
       "      <td>58</td>\n",
       "      <td>10</td>\n",
       "      <td>1</td>\n",
       "    </tr>\n",
       "    <tr>\n",
       "      <th>5</th>\n",
       "      <td>33</td>\n",
       "      <td>60</td>\n",
       "      <td>0</td>\n",
       "      <td>1</td>\n",
       "    </tr>\n",
       "    <tr>\n",
       "      <th>6</th>\n",
       "      <td>34</td>\n",
       "      <td>59</td>\n",
       "      <td>0</td>\n",
       "      <td>2</td>\n",
       "    </tr>\n",
       "    <tr>\n",
       "      <th>7</th>\n",
       "      <td>34</td>\n",
       "      <td>66</td>\n",
       "      <td>9</td>\n",
       "      <td>2</td>\n",
       "    </tr>\n",
       "    <tr>\n",
       "      <th>8</th>\n",
       "      <td>34</td>\n",
       "      <td>58</td>\n",
       "      <td>30</td>\n",
       "      <td>1</td>\n",
       "    </tr>\n",
       "    <tr>\n",
       "      <th>9</th>\n",
       "      <td>34</td>\n",
       "      <td>60</td>\n",
       "      <td>1</td>\n",
       "      <td>1</td>\n",
       "    </tr>\n",
       "  </tbody>\n",
       "</table>\n",
       "</div>"
      ],
      "text/plain": [
       "   Age  Year  Auxillary nodes  Survival \n",
       "0   30    62                3          1\n",
       "1   30    65                0          1\n",
       "2   31    59                2          1\n",
       "3   31    65                4          1\n",
       "4   33    58               10          1\n",
       "5   33    60                0          1\n",
       "6   34    59                0          2\n",
       "7   34    66                9          2\n",
       "8   34    58               30          1\n",
       "9   34    60                1          1"
      ]
     },
     "execution_count": 105,
     "metadata": {},
     "output_type": "execute_result"
    }
   ],
   "source": [
    "data_cancer = pd.read_csv(\"cancer.csv\")\n",
    "\n",
    "data_cancer.head(10)"
   ]
  },
  {
   "cell_type": "code",
   "execution_count": 106,
   "id": "c7033ee4",
   "metadata": {},
   "outputs": [
    {
     "data": {
      "text/plain": [
       "<matplotlib.collections.PathCollection at 0x1aab9c311f0>"
      ]
     },
     "execution_count": 106,
     "metadata": {},
     "output_type": "execute_result"
    },
    {
     "data": {
      "image/png": "[encoded data removed]",
      "text/plain": [
       "<Figure size 432x288 with 1 Axes>"
      ]
     },
     "metadata": {
      "needs_background": "light"
     },
     "output_type": "display_data"
    }
   ],
   "source": [
    "plt.scatter(data_cancer['Age'], data_cancer['Auxillary nodes'], c = data_cancer['Auxillary nodes'])"
   ]
  },
  {
   "cell_type": "code",
   "execution_count": 107,
   "id": "a0614619",
   "metadata": {},
   "outputs": [
    {
     "data": {
      "text/plain": [
       "<AxesSubplot:xlabel='Auxillary nodes', ylabel='count'>"
      ]
     },
     "execution_count": 107,
     "metadata": {},
     "output_type": "execute_result"
    },
    {
     "data": {
      "image/png": "[encoded data removed]",
      "text/plain": [
       "<Figure size 432x288 with 1 Axes>"
      ]
     },
     "metadata": {
      "needs_background": "light"
     },
     "output_type": "display_data"
    }
   ],
   "source": [
    "sns.countplot(x='Auxillary nodes', data = data_cancer )"
   ]
  },
  {
   "cell_type": "code",
   "execution_count": 108,
   "id": "dd36e4ab",
   "metadata": {},
   "outputs": [
    {
     "data": {
      "text/plain": [
       "<AxesSubplot:ylabel='Frequency'>"
      ]
     },
     "execution_count": 108,
     "metadata": {},
     "output_type": "execute_result"
    },
    {
     "data": {
      "image/png": "[encoded data removed]",
      "text/plain": [
       "<Figure size 432x288 with 1 Axes>"
      ]
     },
     "metadata": {
      "needs_background": "light"
     },
     "output_type": "display_data"
    }
   ],
   "source": [
    "data_cancer[\"Age\"].plot.hist()"
   ]
  },
  {
   "cell_type": "code",
   "execution_count": 109,
   "id": "b9a623c0",
   "metadata": {},
   "outputs": [
    {
     "data": {
      "text/plain": [
       "<AxesSubplot:ylabel='Frequency'>"
      ]
     },
     "execution_count": 109,
     "metadata": {},
     "output_type": "execute_result"
    },
    {
     "data": {
      "image/png": "[encoded data removed]",
      "text/plain": [
       "<Figure size 432x288 with 1 Axes>"
      ]
     },
     "metadata": {
      "needs_background": "light"
     },
     "output_type": "display_data"
    }
   ],
   "source": [
    "data_cancer[\"Year\"].plot.hist()"
   ]
  },
  {
   "cell_type": "code",
   "execution_count": 110,
   "id": "d841f912",
   "metadata": {},
   "outputs": [
    {
     "data": {
      "text/plain": [
       "<AxesSubplot:ylabel='Frequency'>"
      ]
     },
     "execution_count": 110,
     "metadata": {},
     "output_type": "execute_result"
    },
    {
     "data": {
      "image/png": "[encoded data removed]",
      "text/plain": [
       "<Figure size 432x288 with 1 Axes>"
      ]
     },
     "metadata": {
      "needs_background": "light"
     },
     "output_type": "display_data"
    }
   ],
   "source": [
    "data_cancer[\"Auxillary nodes\"].plot.hist()"
   ]
  },
  {
   "cell_type": "code",
   "execution_count": 111,
   "id": "d3404210",
   "metadata": {},
   "outputs": [
    {
     "data": {
      "text/html": [
       "<div>\n",
       "<style scoped>\n",
       "    .dataframe tbody tr th:only-of-type {\n",
       "        vertical-align: middle;\n",
       "    }\n",
       "\n",
       "    .dataframe tbody tr th {\n",
       "        vertical-align: top;\n",
       "    }\n",
       "\n",
       "    .dataframe thead th {\n",
       "        text-align: right;\n",
       "    }\n",
       "</style>\n",
       "<table border=\"1\" class=\"dataframe\">\n",
       "  <thead>\n",
       "    <tr style=\"text-align: right;\">\n",
       "      <th></th>\n",
       "      <th>Age</th>\n",
       "      <th>Year</th>\n",
       "      <th>Auxillary nodes</th>\n",
       "      <th>Survival</th>\n",
       "    </tr>\n",
       "  </thead>\n",
       "  <tbody>\n",
       "    <tr>\n",
       "      <th>0</th>\n",
       "      <td>False</td>\n",
       "      <td>False</td>\n",
       "      <td>False</td>\n",
       "      <td>False</td>\n",
       "    </tr>\n",
       "    <tr>\n",
       "      <th>1</th>\n",
       "      <td>False</td>\n",
       "      <td>False</td>\n",
       "      <td>False</td>\n",
       "      <td>False</td>\n",
       "    </tr>\n",
       "    <tr>\n",
       "      <th>2</th>\n",
       "      <td>False</td>\n",
       "      <td>False</td>\n",
       "      <td>False</td>\n",
       "      <td>False</td>\n",
       "    </tr>\n",
       "    <tr>\n",
       "      <th>3</th>\n",
       "      <td>False</td>\n",
       "      <td>False</td>\n",
       "      <td>False</td>\n",
       "      <td>False</td>\n",
       "    </tr>\n",
       "    <tr>\n",
       "      <th>4</th>\n",
       "      <td>False</td>\n",
       "      <td>False</td>\n",
       "      <td>False</td>\n",
       "      <td>False</td>\n",
       "    </tr>\n",
       "    <tr>\n",
       "      <th>...</th>\n",
       "      <td>...</td>\n",
       "      <td>...</td>\n",
       "      <td>...</td>\n",
       "      <td>...</td>\n",
       "    </tr>\n",
       "    <tr>\n",
       "      <th>300</th>\n",
       "      <td>False</td>\n",
       "      <td>False</td>\n",
       "      <td>False</td>\n",
       "      <td>False</td>\n",
       "    </tr>\n",
       "    <tr>\n",
       "      <th>301</th>\n",
       "      <td>False</td>\n",
       "      <td>False</td>\n",
       "      <td>False</td>\n",
       "      <td>False</td>\n",
       "    </tr>\n",
       "    <tr>\n",
       "      <th>302</th>\n",
       "      <td>False</td>\n",
       "      <td>False</td>\n",
       "      <td>False</td>\n",
       "      <td>False</td>\n",
       "    </tr>\n",
       "    <tr>\n",
       "      <th>303</th>\n",
       "      <td>False</td>\n",
       "      <td>False</td>\n",
       "      <td>False</td>\n",
       "      <td>False</td>\n",
       "    </tr>\n",
       "    <tr>\n",
       "      <th>304</th>\n",
       "      <td>False</td>\n",
       "      <td>False</td>\n",
       "      <td>False</td>\n",
       "      <td>False</td>\n",
       "    </tr>\n",
       "  </tbody>\n",
       "</table>\n",
       "<p>305 rows × 4 columns</p>\n",
       "</div>"
      ],
      "text/plain": [
       "       Age   Year  Auxillary nodes  Survival \n",
       "0    False  False            False      False\n",
       "1    False  False            False      False\n",
       "2    False  False            False      False\n",
       "3    False  False            False      False\n",
       "4    False  False            False      False\n",
       "..     ...    ...              ...        ...\n",
       "300  False  False            False      False\n",
       "301  False  False            False      False\n",
       "302  False  False            False      False\n",
       "303  False  False            False      False\n",
       "304  False  False            False      False\n",
       "\n",
       "[305 rows x 4 columns]"
      ]
     },
     "execution_count": 111,
     "metadata": {},
     "output_type": "execute_result"
    }
   ],
   "source": [
    "data_cancer.isnull()"
   ]
  },
  {
   "cell_type": "code",
   "execution_count": 112,
   "id": "fd2bb733",
   "metadata": {},
   "outputs": [
    {
     "data": {
      "text/plain": [
       "Age                0\n",
       "Year               0\n",
       "Auxillary nodes    0\n",
       "Survival           0\n",
       "dtype: int64"
      ]
     },
     "execution_count": 112,
     "metadata": {},
     "output_type": "execute_result"
    }
   ],
   "source": [
    "data_cancer.isnull().sum()"
   ]
  },
  {
   "cell_type": "code",
   "execution_count": 9,
   "id": "63564f8b",
   "metadata": {},
   "outputs": [
    {
     "data": {
      "text/plain": [
       "<AxesSubplot:>"
      ]
     },
     "execution_count": 9,
     "metadata": {},
     "output_type": "execute_result"
    },
    {
     "data": {
      "image/png": "[encoded data removed]",
      "text/plain": [
       "<Figure size 432x288 with 1 Axes>"
      ]
     },
     "metadata": {
      "needs_background": "light"
     },
     "output_type": "display_data"
    }
   ],
   "source": [
    "data_cancer.plot.box()"
   ]
  },
  {
   "cell_type": "code",
   "execution_count": 10,
   "id": "b2a253b0",
   "metadata": {},
   "outputs": [],
   "source": [
    "X=data_cancer.iloc[:,[0,2]].values\n",
    "y=data_cancer.iloc[:,3].values"
   ]
  },
  {
   "cell_type": "code",
   "execution_count": 11,
   "id": "ed64ce15",
   "metadata": {},
   "outputs": [
    {
     "data": {
      "text/plain": [
       "array([1, 1, 1, 1, 1, 1, 2, 2, 1, 1, 1, 1, 1, 1, 1, 1, 1, 1, 1, 1, 1, 1,\n",
       "       1, 2, 1, 1, 1, 1, 1, 1, 1, 1, 1, 2, 1, 1, 1, 1, 1, 1, 1, 1, 2, 2,\n",
       "       2, 1, 1, 1, 1, 1, 1, 1, 2, 2, 1, 1, 1, 1, 1, 1, 1, 2, 2, 2, 2, 1,\n",
       "       1, 1, 1, 1, 1, 1, 2, 2, 2, 1, 1, 1, 1, 2, 2, 2, 1, 1, 1, 1, 1, 1,\n",
       "       2, 2, 2, 2, 1, 1, 1, 2, 2, 2, 1, 1, 1, 1, 1, 1, 1, 1, 2, 2, 2, 1,\n",
       "       1, 1, 1, 2, 2, 1, 1, 1, 1, 1, 1, 1, 1, 2, 2, 1, 1, 1, 1, 1, 1, 1,\n",
       "       1, 1, 1, 2, 2, 1, 1, 1, 1, 2, 2, 2, 2, 1, 1, 1, 1, 1, 1, 1, 1, 1,\n",
       "       1, 2, 2, 2, 2, 2, 2, 1, 1, 1, 1, 1, 2, 2, 2, 2, 1, 1, 1, 1, 1, 1,\n",
       "       1, 1, 1, 2, 2, 1, 1, 1, 1, 1, 1, 1, 1, 2, 2, 1, 1, 1, 1, 1, 2, 2,\n",
       "       2, 1, 1, 1, 1, 1, 1, 1, 1, 1, 1, 1, 1, 1, 1, 1, 2, 1, 1, 1, 1, 1,\n",
       "       1, 1, 2, 2, 1, 1, 1, 1, 2, 2, 2, 1, 1, 1, 1, 1, 1, 2, 2, 2, 1, 1,\n",
       "       1, 1, 2, 1, 1, 1, 1, 1, 1, 1, 1, 1, 1, 1, 1, 2, 2, 2, 2, 1, 1, 1,\n",
       "       1, 1, 1, 2, 2, 1, 1, 1, 2, 2, 1, 1, 1, 1, 1, 1, 2, 1, 1, 1, 2, 2,\n",
       "       1, 1, 1, 1, 1, 1, 2, 1, 1, 1, 1, 1, 2, 1, 1, 1, 1, 2, 2],\n",
       "      dtype=int64)"
      ]
     },
     "execution_count": 11,
     "metadata": {},
     "output_type": "execute_result"
    }
   ],
   "source": [
    "y"
   ]
  },
  {
   "cell_type": "code",
   "execution_count": 12,
   "id": "f0931ec8",
   "metadata": {},
   "outputs": [
    {
     "ename": "ModuleNotFoundError",
     "evalue": "No module named 'sklearn.cross_validation'",
     "output_type": "error",
     "traceback": [
      "\u001b[1;31m---------------------------------------------------------------------------\u001b[0m",
      "\u001b[1;31mModuleNotFoundError\u001b[0m                       Traceback (most recent call last)",
      "\u001b[1;32mC:\\Users\\RAJAGO~1\\AppData\\Local\\Temp/ipykernel_23472/827847458.py\u001b[0m in \u001b[0;36m<module>\u001b[1;34m\u001b[0m\n\u001b[1;32m----> 1\u001b[1;33m \u001b[1;32mfrom\u001b[0m \u001b[0msklearn\u001b[0m\u001b[1;33m.\u001b[0m\u001b[0mcross_validation\u001b[0m \u001b[1;32mimport\u001b[0m \u001b[0mtrain_test_split\u001b[0m\u001b[1;33m\u001b[0m\u001b[1;33m\u001b[0m\u001b[0m\n\u001b[0m",
      "\u001b[1;31mModuleNotFoundError\u001b[0m: No module named 'sklearn.cross_validation'"
     ]
    }
   ],
   "source": [
    "from sklearn.cross_validation import train_test_split"
   ]
  },
  {
   "cell_type": "code",
   "execution_count": 66,
   "id": "671956b5",
   "metadata": {},
   "outputs": [
    {
     "data": {
      "text/plain": [
       "<AxesSubplot:>"
      ]
     },
     "execution_count": 66,
     "metadata": {},
     "output_type": "execute_result"
    },
    {
     "data": {
      "image/png": "[encoded data removed]",
      "text/plain": [
       "<Figure size 432x288 with 1 Axes>"
      ]
     },
     "metadata": {
      "needs_background": "light"
     },
     "output_type": "display_data"
    }
   ],
   "source": [
    "maximum = 4 + 1.5*(4-0)\n",
    "new_data = data_cancer[data_cancer[\"Auxillary nodes\"] <= maximum]\n",
    "new_data.plot.box()"
   ]
  },
  {
   "cell_type": "code",
   "execution_count": 67,
   "id": "341915b9",
   "metadata": {},
   "outputs": [],
   "source": [
    "X=new_data.iloc[:,[0,2]].values\n",
    "y=new_data.iloc[:,3].values"
   ]
  },
  {
   "cell_type": "code",
   "execution_count": 68,
   "id": "d599d304",
   "metadata": {},
   "outputs": [
    {
     "data": {
      "text/plain": [
       "array([1, 1, 1, 1, 1, 1, 2, 2, 1, 1, 1, 1, 1, 1, 1, 1, 1, 1, 1, 1, 1, 1,\n",
       "       1, 1, 1, 1, 1, 1, 2, 1, 1, 1, 1, 1, 1, 1, 1, 2, 2, 1, 1, 1, 1, 1,\n",
       "       1, 1, 2, 2, 1, 1, 1, 1, 1, 1, 2, 2, 2, 1, 1, 1, 1, 1, 1, 2, 2, 1,\n",
       "       1, 1, 2, 2, 2, 1, 1, 1, 1, 1, 2, 2, 2, 1, 1, 1, 2, 2, 1, 1, 1, 1,\n",
       "       1, 1, 1, 2, 1, 1, 1, 1, 2, 2, 1, 1, 1, 1, 1, 1, 1, 1, 2, 1, 1, 1,\n",
       "       1, 1, 1, 1, 1, 1, 1, 2, 1, 1, 1, 1, 2, 2, 2, 2, 1, 1, 1, 1, 1, 1,\n",
       "       1, 1, 1, 1, 2, 2, 2, 2, 1, 1, 1, 1, 1, 2, 2, 1, 1, 1, 1, 1, 1, 1,\n",
       "       2, 1, 1, 1, 1, 1, 1, 2, 2, 1, 1, 1, 1, 1, 2, 2, 1, 1, 1, 1, 1, 1,\n",
       "       1, 1, 1, 1, 1, 1, 1, 1, 1, 1, 1, 1, 1, 1, 1, 1, 2, 1, 1, 1, 2, 2,\n",
       "       2, 1, 1, 1, 1, 1, 1, 2, 1, 1, 1, 1, 2, 1, 1, 1, 1, 1, 1, 1, 1, 1,\n",
       "       1, 2, 2, 1, 1, 1, 1, 1, 1, 2, 1, 1, 1, 2, 2, 1, 1, 1, 1, 1, 1, 2,\n",
       "       1, 1, 1, 2, 2, 1, 1, 1, 1, 1, 2, 1, 1, 1, 1, 1, 2, 1, 1, 1, 1, 2,\n",
       "       2], dtype=int64)"
      ]
     },
     "execution_count": 68,
     "metadata": {},
     "output_type": "execute_result"
    }
   ],
   "source": [
    "y"
   ]
  },
  {
   "cell_type": "code",
   "execution_count": 69,
   "id": "edd8cf1a",
   "metadata": {},
   "outputs": [],
   "source": [
    "X_train, X_test, y_train, y_test = train_test_split(X, y, test_size =0.4, random_state=0)"
   ]
  },
  {
   "cell_type": "code",
   "execution_count": 70,
   "id": "6c9a9b34",
   "metadata": {},
   "outputs": [],
   "source": [
    "from sklearn.preprocessing import StandardScaler"
   ]
  },
  {
   "cell_type": "code",
   "execution_count": 71,
   "id": "142627ac",
   "metadata": {},
   "outputs": [],
   "source": [
    "sc=StandardScaler()\n",
    "X_train=sc.fit_transform(X_train)\n",
    "X_test=sc.transform(X_test)"
   ]
  },
  {
   "cell_type": "code",
   "execution_count": 72,
   "id": "9278d1ec",
   "metadata": {},
   "outputs": [],
   "source": [
    "from sklearn.linear_model import LogisticRegression"
   ]
  },
  {
   "cell_type": "code",
   "execution_count": 73,
   "id": "d61f13da",
   "metadata": {},
   "outputs": [
    {
     "data": {
      "text/plain": [
       "LogisticRegression(random_state=0)"
      ]
     },
     "execution_count": 73,
     "metadata": {},
     "output_type": "execute_result"
    }
   ],
   "source": [
    "classifier=LogisticRegression(random_state=0)\n",
    "classifier.fit(X_train, y_train)"
   ]
  },
  {
   "cell_type": "code",
   "execution_count": 74,
   "id": "1a2a730b",
   "metadata": {},
   "outputs": [],
   "source": [
    "y_pred=classifier.predict(X_test)"
   ]
  },
  {
   "cell_type": "code",
   "execution_count": 75,
   "id": "07c0df14",
   "metadata": {},
   "outputs": [],
   "source": [
    "from sklearn.metrics import accuracy_score"
   ]
  },
  {
   "cell_type": "code",
   "execution_count": 76,
   "id": "4f757ccb",
   "metadata": {},
   "outputs": [
    {
     "data": {
      "text/plain": [
       "76.41509433962264"
      ]
     },
     "execution_count": 76,
     "metadata": {},
     "output_type": "execute_result"
    }
   ],
   "source": [
    "accuracy_score(y_test, y_pred)*100"
   ]
  },
  {
   "cell_type": "code",
   "execution_count": 77,
   "id": "04f727ee",
   "metadata": {},
   "outputs": [],
   "source": [
    "from sklearn.metrics import classification_report"
   ]
  },
  {
   "cell_type": "code",
   "execution_count": 78,
   "id": "4a5d9528",
   "metadata": {},
   "outputs": [
    {
     "name": "stderr",
     "output_type": "stream",
     "text": [
      "C:\\Users\\Rajagopal Nair\\Documents\\Python\\lib\\site-packages\\sklearn\\metrics\\_classification.py:1248: UndefinedMetricWarning: Precision and F-score are ill-defined and being set to 0.0 in labels with no predicted samples. Use `zero_division` parameter to control this behavior.\n",
      "  _warn_prf(average, modifier, msg_start, len(result))\n",
      "C:\\Users\\Rajagopal Nair\\Documents\\Python\\lib\\site-packages\\sklearn\\metrics\\_classification.py:1248: UndefinedMetricWarning: Precision and F-score are ill-defined and being set to 0.0 in labels with no predicted samples. Use `zero_division` parameter to control this behavior.\n",
      "  _warn_prf(average, modifier, msg_start, len(result))\n",
      "C:\\Users\\Rajagopal Nair\\Documents\\Python\\lib\\site-packages\\sklearn\\metrics\\_classification.py:1248: UndefinedMetricWarning: Precision and F-score are ill-defined and being set to 0.0 in labels with no predicted samples. Use `zero_division` parameter to control this behavior.\n",
      "  _warn_prf(average, modifier, msg_start, len(result))\n"
     ]
    },
    {
     "data": {
      "text/plain": [
       "'              precision    recall  f1-score   support\\n\\n           1       0.76      1.00      0.87        81\\n           2       0.00      0.00      0.00        25\\n\\n    accuracy                           0.76       106\\n   macro avg       0.38      0.50      0.43       106\\nweighted avg       0.58      0.76      0.66       106\\n'"
      ]
     },
     "execution_count": 78,
     "metadata": {},
     "output_type": "execute_result"
    }
   ],
   "source": [
    "classification_report(y_test, y_pred)"
   ]
  },
  {
   "cell_type": "code",
   "execution_count": 79,
   "id": "f5608762",
   "metadata": {},
   "outputs": [],
   "source": [
    "from sklearn.metrics import confusion_matrix, ConfusionMatrixDisplay"
   ]
  },
  {
   "cell_type": "code",
   "execution_count": 80,
   "id": "3719ded9",
   "metadata": {},
   "outputs": [
    {
     "data": {
      "text/plain": [
       "array([[81,  0],\n",
       "       [25,  0]], dtype=int64)"
      ]
     },
     "execution_count": 80,
     "metadata": {},
     "output_type": "execute_result"
    }
   ],
   "source": [
    "confusion_matrix(y_test, y_pred)"
   ]
  },
  {
   "cell_type": "code",
   "execution_count": 81,
   "id": "dad5b31e",
   "metadata": {},
   "outputs": [
    {
     "name": "stdout",
     "output_type": "stream",
     "text": [
      "              precision    recall  f1-score   support\n",
      "\n",
      "           1       0.76      1.00      0.87        81\n",
      "           2       0.00      0.00      0.00        25\n",
      "\n",
      "    accuracy                           0.76       106\n",
      "   macro avg       0.38      0.50      0.43       106\n",
      "weighted avg       0.58      0.76      0.66       106\n",
      "\n"
     ]
    },
    {
     "name": "stderr",
     "output_type": "stream",
     "text": [
      "C:\\Users\\Rajagopal Nair\\Documents\\Python\\lib\\site-packages\\sklearn\\metrics\\_classification.py:1248: UndefinedMetricWarning: Precision and F-score are ill-defined and being set to 0.0 in labels with no predicted samples. Use `zero_division` parameter to control this behavior.\n",
      "  _warn_prf(average, modifier, msg_start, len(result))\n",
      "C:\\Users\\Rajagopal Nair\\Documents\\Python\\lib\\site-packages\\sklearn\\metrics\\_classification.py:1248: UndefinedMetricWarning: Precision and F-score are ill-defined and being set to 0.0 in labels with no predicted samples. Use `zero_division` parameter to control this behavior.\n",
      "  _warn_prf(average, modifier, msg_start, len(result))\n",
      "C:\\Users\\Rajagopal Nair\\Documents\\Python\\lib\\site-packages\\sklearn\\metrics\\_classification.py:1248: UndefinedMetricWarning: Precision and F-score are ill-defined and being set to 0.0 in labels with no predicted samples. Use `zero_division` parameter to control this behavior.\n",
      "  _warn_prf(average, modifier, msg_start, len(result))\n"
     ]
    },
    {
     "data": {
      "image/png": "[encoded data removed]",
      "text/plain": [
       "<Figure size 432x288 with 2 Axes>"
      ]
     },
     "metadata": {
      "needs_background": "light"
     },
     "output_type": "display_data"
    },
    {
     "data": {
      "image/png": "[encoded data removed]",
      "text/plain": [
       "<Figure size 432x288 with 1 Axes>"
      ]
     },
     "metadata": {
      "needs_background": "light"
     },
     "output_type": "display_data"
    }
   ],
   "source": [
    "#Logistic Regression\n",
    "from sklearn.linear_model import LogisticRegression\n",
    "from sklearn.metrics import classification_report\n",
    "clf = LogisticRegression(solver = \"lbfgs\", penalty = 'none', random_state = 10).fit(X_train, y_train)\n",
    "clf.score(X_test, y_test)\n",
    "labels = [\"Deaths\",\"Survival\"]\n",
    "y_pred=classifier.predict(X_test)\n",
    "classifier=LogisticRegression(random_state=0)\n",
    "classifier.fit(X_train, y_train)\n",
    "cm = confusion_matrix(y_test, y_pred, labels = clf.classes_)\n",
    "disp = ConfusionMatrixDisplay(confusion_matrix = cm, display_labels = labels)\n",
    "print(classification_report(y_test, y_pred, labels = clf.classes_))\n",
    "disp.plot()\n",
    "plot_roc_curve(clf, X_test, y_test)\n",
    "plt.show()"
   ]
  },
  {
   "cell_type": "code",
   "execution_count": 82,
   "id": "5ec85988",
   "metadata": {},
   "outputs": [
    {
     "data": {
      "text/plain": [
       "0.259247311827957"
      ]
     },
     "execution_count": 82,
     "metadata": {},
     "output_type": "execute_result"
    }
   ],
   "source": [
    "#CrossValidation\n",
    "\n",
    "from sklearn.model_selection import train_test_split\n",
    "from sklearn.model_selection import KFold\n",
    "from sklearn.model_selection import cross_val_score\n",
    "from sklearn.linear_model import LinearRegression\n",
    "from numpy import mean\n",
    "from numpy import absolute\n",
    "from numpy import sqrt\n",
    "import pandas as pd\n",
    "\n",
    "new_data = pd.read_csv(\"cancer.csv\")\n",
    "\n",
    "X=new_data.iloc[:,[0,2]].values\n",
    "y=new_data.iloc[:,3].values\n",
    "\n",
    "clf = LogisticRegression(solver = \"lbfgs\", penalty = 'none', random_state = 10).fit(X_train, y_train)\n",
    "clf.score(X_test, y_test)\n",
    "labels = [\"Deaths\",\"Survival\"]\n",
    "cm = confusion_matrix(y_test, y_pred, labels = clf.classes_)\n",
    "disp = ConfusionMatrixDisplay(confusion_matrix = cm, display_labels = labels)\n",
    "#print(classification_report(y_test, y_pred, labels = clf.classes_))\n",
    "\n",
    "cv = KFold(n_splits=10, random_state=1, shuffle=True)\n",
    "X_train, X_test, y_train, y_test = train_test_split(X, y, test_size =0.4, random_state=0)\n",
    "\n",
    "\n",
    "\n",
    "scores = cross_val_score(clf, X, y, scoring='neg_mean_absolute_error',\n",
    "                         cv=cv, n_jobs=-1)\n",
    "mean(absolute(scores))"
   ]
  },
  {
   "cell_type": "code",
   "execution_count": 85,
   "id": "f3f48969",
   "metadata": {},
   "outputs": [
    {
     "name": "stderr",
     "output_type": "stream",
     "text": [
      "C:\\Users\\Rajagopal Nair\\Documents\\Python\\lib\\site-packages\\sklearn\\model_selection\\_validation.py:615: FitFailedWarning: Estimator fit failed. The score on this train-test partition for these parameters will be set to nan. Details: \n",
      "Traceback (most recent call last):\n",
      "  File \"C:\\Users\\Rajagopal Nair\\Documents\\Python\\lib\\site-packages\\sklearn\\model_selection\\_validation.py\", line 598, in _fit_and_score\n",
      "    estimator.fit(X_train, y_train, **fit_params)\n",
      "  File \"C:\\Users\\Rajagopal Nair\\Documents\\Python\\lib\\site-packages\\sklearn\\linear_model\\_logistic.py\", line 1306, in fit\n",
      "    solver = _check_solver(self.solver, self.penalty, self.dual)\n",
      "  File \"C:\\Users\\Rajagopal Nair\\Documents\\Python\\lib\\site-packages\\sklearn\\linear_model\\_logistic.py\", line 443, in _check_solver\n",
      "    raise ValueError(\"Solver %s supports only 'l2' or 'none' penalties, \"\n",
      "ValueError: Solver lbfgs supports only 'l2' or 'none' penalties, got l1 penalty.\n",
      "\n",
      "  warnings.warn(\"Estimator fit failed. The score on this train-test\"\n",
      "C:\\Users\\Rajagopal Nair\\Documents\\Python\\lib\\site-packages\\sklearn\\model_selection\\_validation.py:615: FitFailedWarning: Estimator fit failed. The score on this train-test partition for these parameters will be set to nan. Details: \n",
      "Traceback (most recent call last):\n",
      "  File \"C:\\Users\\Rajagopal Nair\\Documents\\Python\\lib\\site-packages\\sklearn\\model_selection\\_validation.py\", line 598, in _fit_and_score\n",
      "    estimator.fit(X_train, y_train, **fit_params)\n",
      "  File \"C:\\Users\\Rajagopal Nair\\Documents\\Python\\lib\\site-packages\\sklearn\\linear_model\\_logistic.py\", line 1306, in fit\n",
      "    solver = _check_solver(self.solver, self.penalty, self.dual)\n",
      "  File \"C:\\Users\\Rajagopal Nair\\Documents\\Python\\lib\\site-packages\\sklearn\\linear_model\\_logistic.py\", line 443, in _check_solver\n",
      "    raise ValueError(\"Solver %s supports only 'l2' or 'none' penalties, \"\n",
      "ValueError: Solver lbfgs supports only 'l2' or 'none' penalties, got l1 penalty.\n",
      "\n",
      "  warnings.warn(\"Estimator fit failed. The score on this train-test\"\n",
      "C:\\Users\\Rajagopal Nair\\Documents\\Python\\lib\\site-packages\\sklearn\\model_selection\\_validation.py:615: FitFailedWarning: Estimator fit failed. The score on this train-test partition for these parameters will be set to nan. Details: \n",
      "Traceback (most recent call last):\n",
      "  File \"C:\\Users\\Rajagopal Nair\\Documents\\Python\\lib\\site-packages\\sklearn\\model_selection\\_validation.py\", line 598, in _fit_and_score\n",
      "    estimator.fit(X_train, y_train, **fit_params)\n",
      "  File \"C:\\Users\\Rajagopal Nair\\Documents\\Python\\lib\\site-packages\\sklearn\\linear_model\\_logistic.py\", line 1306, in fit\n",
      "    solver = _check_solver(self.solver, self.penalty, self.dual)\n",
      "  File \"C:\\Users\\Rajagopal Nair\\Documents\\Python\\lib\\site-packages\\sklearn\\linear_model\\_logistic.py\", line 443, in _check_solver\n",
      "    raise ValueError(\"Solver %s supports only 'l2' or 'none' penalties, \"\n",
      "ValueError: Solver lbfgs supports only 'l2' or 'none' penalties, got l1 penalty.\n",
      "\n",
      "  warnings.warn(\"Estimator fit failed. The score on this train-test\"\n",
      "C:\\Users\\Rajagopal Nair\\Documents\\Python\\lib\\site-packages\\sklearn\\model_selection\\_validation.py:615: FitFailedWarning: Estimator fit failed. The score on this train-test partition for these parameters will be set to nan. Details: \n",
      "Traceback (most recent call last):\n",
      "  File \"C:\\Users\\Rajagopal Nair\\Documents\\Python\\lib\\site-packages\\sklearn\\model_selection\\_validation.py\", line 598, in _fit_and_score\n",
      "    estimator.fit(X_train, y_train, **fit_params)\n",
      "  File \"C:\\Users\\Rajagopal Nair\\Documents\\Python\\lib\\site-packages\\sklearn\\linear_model\\_logistic.py\", line 1306, in fit\n",
      "    solver = _check_solver(self.solver, self.penalty, self.dual)\n",
      "  File \"C:\\Users\\Rajagopal Nair\\Documents\\Python\\lib\\site-packages\\sklearn\\linear_model\\_logistic.py\", line 443, in _check_solver\n",
      "    raise ValueError(\"Solver %s supports only 'l2' or 'none' penalties, \"\n",
      "ValueError: Solver lbfgs supports only 'l2' or 'none' penalties, got l1 penalty.\n",
      "\n",
      "  warnings.warn(\"Estimator fit failed. The score on this train-test\"\n",
      "C:\\Users\\Rajagopal Nair\\Documents\\Python\\lib\\site-packages\\sklearn\\model_selection\\_validation.py:615: FitFailedWarning: Estimator fit failed. The score on this train-test partition for these parameters will be set to nan. Details: \n",
      "Traceback (most recent call last):\n",
      "  File \"C:\\Users\\Rajagopal Nair\\Documents\\Python\\lib\\site-packages\\sklearn\\model_selection\\_validation.py\", line 598, in _fit_and_score\n",
      "    estimator.fit(X_train, y_train, **fit_params)\n",
      "  File \"C:\\Users\\Rajagopal Nair\\Documents\\Python\\lib\\site-packages\\sklearn\\linear_model\\_logistic.py\", line 1306, in fit\n",
      "    solver = _check_solver(self.solver, self.penalty, self.dual)\n",
      "  File \"C:\\Users\\Rajagopal Nair\\Documents\\Python\\lib\\site-packages\\sklearn\\linear_model\\_logistic.py\", line 443, in _check_solver\n",
      "    raise ValueError(\"Solver %s supports only 'l2' or 'none' penalties, \"\n",
      "ValueError: Solver lbfgs supports only 'l2' or 'none' penalties, got l1 penalty.\n",
      "\n",
      "  warnings.warn(\"Estimator fit failed. The score on this train-test\"\n",
      "C:\\Users\\Rajagopal Nair\\Documents\\Python\\lib\\site-packages\\sklearn\\model_selection\\_validation.py:615: FitFailedWarning: Estimator fit failed. The score on this train-test partition for these parameters will be set to nan. Details: \n",
      "Traceback (most recent call last):\n",
      "  File \"C:\\Users\\Rajagopal Nair\\Documents\\Python\\lib\\site-packages\\sklearn\\model_selection\\_validation.py\", line 598, in _fit_and_score\n",
      "    estimator.fit(X_train, y_train, **fit_params)\n",
      "  File \"C:\\Users\\Rajagopal Nair\\Documents\\Python\\lib\\site-packages\\sklearn\\linear_model\\_logistic.py\", line 1306, in fit\n",
      "    solver = _check_solver(self.solver, self.penalty, self.dual)\n",
      "  File \"C:\\Users\\Rajagopal Nair\\Documents\\Python\\lib\\site-packages\\sklearn\\linear_model\\_logistic.py\", line 443, in _check_solver\n",
      "    raise ValueError(\"Solver %s supports only 'l2' or 'none' penalties, \"\n",
      "ValueError: Solver lbfgs supports only 'l2' or 'none' penalties, got l1 penalty.\n",
      "\n",
      "  warnings.warn(\"Estimator fit failed. The score on this train-test\"\n",
      "C:\\Users\\Rajagopal Nair\\Documents\\Python\\lib\\site-packages\\sklearn\\model_selection\\_validation.py:615: FitFailedWarning: Estimator fit failed. The score on this train-test partition for these parameters will be set to nan. Details: \n",
      "Traceback (most recent call last):\n",
      "  File \"C:\\Users\\Rajagopal Nair\\Documents\\Python\\lib\\site-packages\\sklearn\\model_selection\\_validation.py\", line 598, in _fit_and_score\n",
      "    estimator.fit(X_train, y_train, **fit_params)\n",
      "  File \"C:\\Users\\Rajagopal Nair\\Documents\\Python\\lib\\site-packages\\sklearn\\linear_model\\_logistic.py\", line 1306, in fit\n",
      "    solver = _check_solver(self.solver, self.penalty, self.dual)\n",
      "  File \"C:\\Users\\Rajagopal Nair\\Documents\\Python\\lib\\site-packages\\sklearn\\linear_model\\_logistic.py\", line 443, in _check_solver\n",
      "    raise ValueError(\"Solver %s supports only 'l2' or 'none' penalties, \"\n",
      "ValueError: Solver lbfgs supports only 'l2' or 'none' penalties, got l1 penalty.\n",
      "\n",
      "  warnings.warn(\"Estimator fit failed. The score on this train-test\"\n",
      "C:\\Users\\Rajagopal Nair\\Documents\\Python\\lib\\site-packages\\sklearn\\model_selection\\_validation.py:615: FitFailedWarning: Estimator fit failed. The score on this train-test partition for these parameters will be set to nan. Details: \n",
      "Traceback (most recent call last):\n",
      "  File \"C:\\Users\\Rajagopal Nair\\Documents\\Python\\lib\\site-packages\\sklearn\\model_selection\\_validation.py\", line 598, in _fit_and_score\n",
      "    estimator.fit(X_train, y_train, **fit_params)\n",
      "  File \"C:\\Users\\Rajagopal Nair\\Documents\\Python\\lib\\site-packages\\sklearn\\linear_model\\_logistic.py\", line 1306, in fit\n",
      "    solver = _check_solver(self.solver, self.penalty, self.dual)\n",
      "  File \"C:\\Users\\Rajagopal Nair\\Documents\\Python\\lib\\site-packages\\sklearn\\linear_model\\_logistic.py\", line 443, in _check_solver\n",
      "    raise ValueError(\"Solver %s supports only 'l2' or 'none' penalties, \"\n",
      "ValueError: Solver lbfgs supports only 'l2' or 'none' penalties, got l1 penalty.\n",
      "\n",
      "  warnings.warn(\"Estimator fit failed. The score on this train-test\"\n",
      "C:\\Users\\Rajagopal Nair\\Documents\\Python\\lib\\site-packages\\sklearn\\model_selection\\_validation.py:615: FitFailedWarning: Estimator fit failed. The score on this train-test partition for these parameters will be set to nan. Details: \n",
      "Traceback (most recent call last):\n",
      "  File \"C:\\Users\\Rajagopal Nair\\Documents\\Python\\lib\\site-packages\\sklearn\\model_selection\\_validation.py\", line 598, in _fit_and_score\n",
      "    estimator.fit(X_train, y_train, **fit_params)\n",
      "  File \"C:\\Users\\Rajagopal Nair\\Documents\\Python\\lib\\site-packages\\sklearn\\linear_model\\_logistic.py\", line 1306, in fit\n",
      "    solver = _check_solver(self.solver, self.penalty, self.dual)\n",
      "  File \"C:\\Users\\Rajagopal Nair\\Documents\\Python\\lib\\site-packages\\sklearn\\linear_model\\_logistic.py\", line 443, in _check_solver\n",
      "    raise ValueError(\"Solver %s supports only 'l2' or 'none' penalties, \"\n",
      "ValueError: Solver lbfgs supports only 'l2' or 'none' penalties, got l1 penalty.\n",
      "\n",
      "  warnings.warn(\"Estimator fit failed. The score on this train-test\"\n",
      "C:\\Users\\Rajagopal Nair\\Documents\\Python\\lib\\site-packages\\sklearn\\model_selection\\_validation.py:615: FitFailedWarning: Estimator fit failed. The score on this train-test partition for these parameters will be set to nan. Details: \n",
      "Traceback (most recent call last):\n",
      "  File \"C:\\Users\\Rajagopal Nair\\Documents\\Python\\lib\\site-packages\\sklearn\\model_selection\\_validation.py\", line 598, in _fit_and_score\n",
      "    estimator.fit(X_train, y_train, **fit_params)\n",
      "  File \"C:\\Users\\Rajagopal Nair\\Documents\\Python\\lib\\site-packages\\sklearn\\linear_model\\_logistic.py\", line 1306, in fit\n",
      "    solver = _check_solver(self.solver, self.penalty, self.dual)\n",
      "  File \"C:\\Users\\Rajagopal Nair\\Documents\\Python\\lib\\site-packages\\sklearn\\linear_model\\_logistic.py\", line 443, in _check_solver\n",
      "    raise ValueError(\"Solver %s supports only 'l2' or 'none' penalties, \"\n",
      "ValueError: Solver lbfgs supports only 'l2' or 'none' penalties, got l1 penalty.\n",
      "\n",
      "  warnings.warn(\"Estimator fit failed. The score on this train-test\"\n",
      "C:\\Users\\Rajagopal Nair\\Documents\\Python\\lib\\site-packages\\sklearn\\model_selection\\_search.py:922: UserWarning: One or more of the test scores are non-finite: [       nan        nan 0.77582583 0.77582583]\n",
      "  warnings.warn(\n"
     ]
    },
    {
     "data": {
      "text/plain": [
       "{'penalty': 'l2', 'random_state': 1}"
      ]
     },
     "execution_count": 85,
     "metadata": {},
     "output_type": "execute_result"
    }
   ],
   "source": [
    "from sklearn.model_selection import KFold, GridSearchCV\n",
    "parameters = {'penalty':('l1','l2'), 'random_state':[1, 10]}\n",
    "clf_grid = GridSearchCV(clf, parameters)\n",
    "clf_grid.fit(X_train, y_train)\n",
    "clf_grid.best_params_"
   ]
  },
  {
   "cell_type": "code",
   "execution_count": null,
   "id": "f7b7efe1",
   "metadata": {},
   "outputs": [],
   "source": []
  },
  {
   "cell_type": "markdown",
   "id": "5f8afbb4",
   "metadata": {},
   "source": [
    "#RandomForest\n"
   ]
  },
  {
   "cell_type": "code",
   "execution_count": 86,
   "id": "c629d48f",
   "metadata": {},
   "outputs": [
    {
     "data": {
      "text/plain": [
       "RandomForestClassifier(n_estimators=20)"
      ]
     },
     "execution_count": 86,
     "metadata": {},
     "output_type": "execute_result"
    }
   ],
   "source": [
    "from sklearn.ensemble import RandomForestClassifier\n",
    "model = RandomForestClassifier(n_estimators=20)\n",
    "model.fit(X_train, y_train)\n"
   ]
  },
  {
   "cell_type": "code",
   "execution_count": 87,
   "id": "667a078a",
   "metadata": {},
   "outputs": [
    {
     "data": {
      "text/plain": [
       "0.6721311475409836"
      ]
     },
     "execution_count": 87,
     "metadata": {},
     "output_type": "execute_result"
    }
   ],
   "source": [
    "model.score(X_test, y_test)"
   ]
  },
  {
   "cell_type": "code",
   "execution_count": 88,
   "id": "cf903c45",
   "metadata": {},
   "outputs": [],
   "source": [
    "import pandas as pd\n",
    "import numpy as np\n",
    "import matplotlib.pyplot as plt\n",
    "import seaborn as sns\n",
    "import math\n",
    "from sklearn import linear_model\n",
    "from sklearn.model_selection import KFold, GridSearchCV\n",
    "from sklearn.preprocessing import StandardScaler\n",
    "from sklearn.preprocessing import MinMaxScaler\n",
    "from sklearn.metrics import roc_auc_score, plot_roc_curve\n",
    "from sklearn.metrics import confusion_matrix, ConfusionMatrixDisplay\n",
    "from sklearn.ensemble import RandomForestClassifier\n",
    "\n",
    "from sklearn.neural_network import MLPClassifier\n",
    "\n",
    "%matplotlib inline\n",
    "from sklearn.svm import SVC\n",
    "from sklearn.metrics import classification_report\n",
    "from sklearn.model_selection import train_test_split\n",
    "new_data = pd.read_csv(\"cancer.csv\")\n",
    "X=new_data.iloc[:,[0,2]].values\n",
    "y=new_data.iloc[:,3].values"
   ]
  },
  {
   "cell_type": "code",
   "execution_count": 89,
   "id": "748a7fa8",
   "metadata": {},
   "outputs": [
    {
     "name": "stdout",
     "output_type": "stream",
     "text": [
      "              precision    recall  f1-score   support\n",
      "\n",
      "           1       0.72      0.87      0.79        82\n",
      "           2       0.54      0.33      0.41        40\n",
      "\n",
      "    accuracy                           0.69       122\n",
      "   macro avg       0.63      0.60      0.60       122\n",
      "weighted avg       0.66      0.69      0.66       122\n",
      "\n"
     ]
    },
    {
     "data": {
      "image/png": "[encoded data removed]",
      "text/plain": [
       "<Figure size 432x288 with 2 Axes>"
      ]
     },
     "metadata": {
      "needs_background": "light"
     },
     "output_type": "display_data"
    },
    {
     "data": {
      "image/png": "[encoded data removed]",
      "text/plain": [
       "<Figure size 432x288 with 1 Axes>"
      ]
     },
     "metadata": {
      "needs_background": "light"
     },
     "output_type": "display_data"
    }
   ],
   "source": [
    "rf=RandomForestClassifier(n_estimators=10, max_depth = 5, max_features ='log2', random_state = 0).fit(X_train, y_train)\n",
    "\n",
    "labels = [\"Deaths\",\"Survival\"]\n",
    "rf_pred = rf.predict(X_test)\n",
    "cm_rf = confusion_matrix(y_test, rf_pred, labels = rf.classes_)\n",
    "disp = ConfusionMatrixDisplay(confusion_matrix = cm_rf, display_labels = labels)\n",
    "print(classification_report(y_test, rf_pred, labels = rf.classes_))\n",
    "disp.plot()\n",
    "plot_roc_curve(rf, X_test, y_test)\n",
    "plt.show()"
   ]
  },
  {
   "cell_type": "code",
   "execution_count": 90,
   "id": "0594a43d",
   "metadata": {},
   "outputs": [
    {
     "data": {
      "text/plain": [
       "0.26903225806451614"
      ]
     },
     "execution_count": 90,
     "metadata": {},
     "output_type": "execute_result"
    }
   ],
   "source": [
    "#Cross-validation\n",
    "from sklearn.model_selection import train_test_split\n",
    "from sklearn.model_selection import KFold\n",
    "from sklearn.model_selection import cross_val_score\n",
    "from sklearn.linear_model import LinearRegression\n",
    "from sklearn.ensemble import RandomForestClassifier\n",
    "from numpy import mean\n",
    "from numpy import absolute\n",
    "from numpy import sqrt\n",
    "import pandas as pd\n",
    "\n",
    "new_data = pd.read_csv(\"cancer.csv\")\n",
    "\n",
    "X=new_data.iloc[:,[0,2]].values\n",
    "y=new_data.iloc[:,3].values\n",
    "\n",
    "rf=RandomForestClassifier(n_estimators=10, max_depth = 5, max_features ='log2', random_state = 0).fit(X_train, y_train)\n",
    "labels = [\"Deaths\",\"Survival\"]\n",
    "rf_pred = rf.predict(X_test)\n",
    "cm_rf = confusion_matrix(y_test, rf_pred, labels = rf.classes_)\n",
    "disp = ConfusionMatrixDisplay(confusion_matrix = cm_rf, display_labels = labels)\n",
    "#print(classification_report(y_test, rf_pred, labels = rf.classes_))\n",
    "\n",
    "cv = KFold(n_splits=10, random_state=1, shuffle=True)\n",
    "X_train, X_test, y_train, y_test = train_test_split(X, y, test_size =0.4, random_state=0)\n",
    "\n",
    "\n",
    "\n",
    "scores = cross_val_score(rf, X, y, scoring='neg_mean_absolute_error',\n",
    "                         cv=cv, n_jobs=-1)\n",
    "mean(absolute(scores))\n",
    "\n"
   ]
  },
  {
   "cell_type": "code",
   "execution_count": 91,
   "id": "ca8f1a8f",
   "metadata": {},
   "outputs": [
    {
     "data": {
      "text/plain": [
       "{'max_features': 'sqrt', 'n_estimators': 1}"
      ]
     },
     "execution_count": 91,
     "metadata": {},
     "output_type": "execute_result"
    }
   ],
   "source": [
    "from sklearn.model_selection import KFold, GridSearchCV\n",
    "parameters = {'max_features':('sqrt', 'log2'), 'n_estimators':[1,10]}\n",
    "rf_grid = GridSearchCV(rf, parameters)\n",
    "rf_grid.fit(X_train, y_train)\n",
    "rf_grid.best_params_"
   ]
  },
  {
   "cell_type": "code",
   "execution_count": null,
   "id": "261794b9",
   "metadata": {},
   "outputs": [],
   "source": []
  },
  {
   "cell_type": "code",
   "execution_count": null,
   "id": "e2269771",
   "metadata": {},
   "outputs": [],
   "source": []
  },
  {
   "cell_type": "markdown",
   "id": "e6c7c4ea",
   "metadata": {},
   "source": [
    "# Support Vector Machine"
   ]
  },
  {
   "cell_type": "code",
   "execution_count": 92,
   "id": "b84753e3",
   "metadata": {},
   "outputs": [
    {
     "name": "stdout",
     "output_type": "stream",
     "text": [
      "              precision    recall  f1-score   support\n",
      "\n",
      "           1       0.68      0.99      0.81        82\n",
      "           2       0.67      0.05      0.09        40\n",
      "\n",
      "    accuracy                           0.68       122\n",
      "   macro avg       0.67      0.52      0.45       122\n",
      "weighted avg       0.68      0.68      0.57       122\n",
      "\n"
     ]
    },
    {
     "data": {
      "image/png": "[encoded data removed]",
      "text/plain": [
       "<Figure size 432x288 with 2 Axes>"
      ]
     },
     "metadata": {
      "needs_background": "light"
     },
     "output_type": "display_data"
    },
    {
     "data": {
      "image/png": "[encoded data removed]",
      "text/plain": [
       "<Figure size 432x288 with 1 Axes>"
      ]
     },
     "metadata": {
      "needs_background": "light"
     },
     "output_type": "display_data"
    }
   ],
   "source": [
    "import pandas as pd\n",
    "import numpy as np\n",
    "import matplotlib.pyplot as plt\n",
    "import seaborn as sns\n",
    "import math\n",
    "from sklearn import linear_model\n",
    "from sklearn.model_selection import KFold, GridSearchCV\n",
    "from sklearn.preprocessing import StandardScaler\n",
    "from sklearn.preprocessing import MinMaxScaler\n",
    "from sklearn.metrics import roc_auc_score, plot_roc_curve\n",
    "from sklearn.metrics import confusion_matrix, ConfusionMatrixDisplay\n",
    "\n",
    "\n",
    "from sklearn.neural_network import MLPClassifier\n",
    "\n",
    "#%matplotlib inline\n",
    "from sklearn.svm import SVC\n",
    "from sklearn.metrics import classification_report\n",
    "from sklearn.model_selection import train_test_split\n",
    "new_data = pd.read_csv(\"cancer.csv\")\n",
    "X=new_data.iloc[:,[0,2]].values\n",
    "y=new_data.iloc[:,3].values\n",
    "X_train, X_test, y_train, y_test = train_test_split(X, y, test_size =0.4, random_state=0)\n",
    "svm = SVC(random_state = 10, kernel = \"rbf\", gamma = 1).fit(X_train, y_train)\n",
    "svm_pred = svm.predict(X_test)\n",
    "\n",
    "labels = [\"Deaths\",\"Survival\"]\n",
    "cm_svm = confusion_matrix(y_test, svm_pred, labels = svm.classes_)\n",
    "disp = ConfusionMatrixDisplay(confusion_matrix = cm_svm, display_labels = labels)\n",
    "print(classification_report(y_test, svm_pred, labels = svm.classes_))\n",
    "disp.plot()\n",
    "plot_roc_curve(svm, X_test, y_test)\n",
    "plt.show()"
   ]
  },
  {
   "cell_type": "code",
   "execution_count": 4,
   "id": "e4a70abc",
   "metadata": {},
   "outputs": [
    {
     "data": {
      "text/plain": [
       "0.27548387096774196"
      ]
     },
     "execution_count": 4,
     "metadata": {},
     "output_type": "execute_result"
    }
   ],
   "source": [
    "#Cross-validation\n",
    "from sklearn.model_selection import train_test_split\n",
    "from sklearn.model_selection import KFold\n",
    "from sklearn.model_selection import cross_val_score\n",
    "from sklearn.linear_model import LinearRegression\n",
    "from sklearn.ensemble import RandomForestClassifier\n",
    "from sklearn.svm import SVC\n",
    "from numpy import mean\n",
    "from numpy import absolute\n",
    "from numpy import sqrt\n",
    "import pandas as pd\n",
    "\n",
    "data_cancer = pd.read_csv(\"cancer.csv\")\n",
    "\n",
    "X=data_cancer.iloc[:,[0,2]].values\n",
    "y=data_cancer.iloc[:,3].values\n",
    "\n",
    "svm = SVC(random_state = 10, kernel = \"rbf\", gamma = 1).fit(X_train, y_train)\n",
    "svm_pred = svm.predict(X_test)\n",
    "\n",
    "labels = [\"Deaths\",\"Survival\"]\n",
    "cm_svm = confusion_matrix(y_test, svm_pred, labels = svm.classes_)\n",
    "disp = ConfusionMatrixDisplay(confusion_matrix = cm_svm, display_labels = labels)\n",
    "\n",
    "cv = KFold(n_splits=10, random_state=1, shuffle=True)\n",
    "X_train, X_test, y_train, y_test = train_test_split(X, y, test_size =0.4, random_state=0)\n",
    "\n",
    "\n",
    "\n",
    "scores = cross_val_score(svm, X, y, scoring='neg_mean_absolute_error',\n",
    "                         cv=cv, n_jobs=-1)\n",
    "mean(absolute(scores))\n",
    "\n"
   ]
  },
  {
   "cell_type": "code",
   "execution_count": 93,
   "id": "e62d1708",
   "metadata": {},
   "outputs": [
    {
     "data": {
      "text/plain": [
       "{'C': 1, 'kernel': 'linear'}"
      ]
     },
     "execution_count": 93,
     "metadata": {},
     "output_type": "execute_result"
    }
   ],
   "source": [
    "from sklearn.model_selection import KFold, GridSearchCV\n",
    "parameters = {'kernel':('linear','rbf'), 'C':[1,10]}\n",
    "svm_grid = GridSearchCV(svm, parameters)\n",
    "svm_grid.fit(X_train, y_train)\n",
    "svm_grid.best_params_"
   ]
  },
  {
   "cell_type": "code",
   "execution_count": null,
   "id": "759a38dc",
   "metadata": {},
   "outputs": [],
   "source": []
  },
  {
   "cell_type": "markdown",
   "id": "23dc8898",
   "metadata": {},
   "source": [
    "#Neural Network"
   ]
  },
  {
   "cell_type": "code",
   "execution_count": 95,
   "id": "81aec4cc",
   "metadata": {},
   "outputs": [
    {
     "name": "stdout",
     "output_type": "stream",
     "text": [
      "              precision    recall  f1-score   support\n",
      "\n",
      "           1       0.69      0.94      0.79        82\n",
      "           2       0.50      0.12      0.20        40\n",
      "\n",
      "    accuracy                           0.67       122\n",
      "   macro avg       0.59      0.53      0.50       122\n",
      "weighted avg       0.63      0.67      0.60       122\n",
      "\n"
     ]
    },
    {
     "data": {
      "image/png": "[encoded data removed]",
      "text/plain": [
       "<Figure size 432x288 with 2 Axes>"
      ]
     },
     "metadata": {
      "needs_background": "light"
     },
     "output_type": "display_data"
    },
    {
     "data": {
      "image/png": "[encoded data removed]",
      "text/plain": [
       "<Figure size 432x288 with 1 Axes>"
      ]
     },
     "metadata": {
      "needs_background": "light"
     },
     "output_type": "display_data"
    }
   ],
   "source": [
    "import pandas as pd\n",
    "import numpy as np\n",
    "import matplotlib.pyplot as plt\n",
    "import seaborn as sns\n",
    "import math\n",
    "from sklearn import linear_model\n",
    "from sklearn.model_selection import KFold, GridSearchCV\n",
    "from sklearn.preprocessing import StandardScaler\n",
    "from sklearn.preprocessing import MinMaxScaler\n",
    "from sklearn.metrics import roc_auc_score, plot_roc_curve\n",
    "from sklearn.metrics import confusion_matrix, ConfusionMatrixDisplay\n",
    "from sklearn.linear_model import LogisticRegression\n",
    "from sklearn.neural_network import MLPClassifier\n",
    "\n",
    "#%matplotlib inline\n",
    "#from sklearn.svm import SVC\n",
    "from sklearn.metrics import classification_report\n",
    "from sklearn.model_selection import train_test_split\n",
    "new_data = pd.read_csv(\"cancer.csv\")\n",
    "X=new_data.iloc[:,[0,2]].values\n",
    "y=new_data.iloc[:,3].values\n",
    "X_train, X_test, y_train, y_test = train_test_split(X, y, test_size =0.4, random_state=0)\n",
    "\n",
    "labels = [\"Deaths\",\"Survival\"]\n",
    "\n",
    "NeuroN = MLPClassifier(solver = 'lbfgs', alpha = 0.0001, hidden_layer_sizes =(10,), random_state = 1, activation = \"identity\",learning_rate_init = 0.01).fit(X_train, y_train)\n",
    "NeuroN_pred = NeuroN.predict(X_test)\n",
    "cm_NeuroN = confusion_matrix(y_test, svm_pred, labels = NeuroN.classes_)\n",
    "disp = ConfusionMatrixDisplay(confusion_matrix = cm_NeuroN, display_labels = labels)\n",
    "print(classification_report(y_test, NeuroN_pred, labels = NeuroN.classes_))\n",
    "disp.plot()\n",
    "plot_roc_curve(NeuroN, X_test, y_test)\n",
    "plt.show()"
   ]
  },
  {
   "cell_type": "code",
   "execution_count": 96,
   "id": "a1227ec7",
   "metadata": {},
   "outputs": [],
   "source": [
    "from sklearn.model_selection import KFold, GridSearchCV\n"
   ]
  },
  {
   "cell_type": "markdown",
   "id": "b713e5e1",
   "metadata": {},
   "source": [
    "#Cross Validation"
   ]
  },
  {
   "cell_type": "code",
   "execution_count": 97,
   "id": "001c26d8",
   "metadata": {},
   "outputs": [
    {
     "data": {
      "text/plain": [
       "0.259247311827957"
      ]
     },
     "execution_count": 97,
     "metadata": {},
     "output_type": "execute_result"
    }
   ],
   "source": [
    "#Cross-validation\n",
    "from sklearn.model_selection import train_test_split\n",
    "from sklearn.model_selection import KFold\n",
    "from sklearn.model_selection import cross_val_score\n",
    "from sklearn.linear_model import LinearRegression\n",
    "from sklearn.ensemble import RandomForestClassifier\n",
    "from sklearn.neural_network import MLPClassifier\n",
    "from sklearn.metrics import confusion_matrix, ConfusionMatrixDisplay, accuracy_score\n",
    "from sklearn.svm import SVC\n",
    "from numpy import mean\n",
    "from numpy import absolute\n",
    "from numpy import sqrt\n",
    "import pandas as pd\n",
    "import numpy as np\n",
    "\n",
    "new_data = pd.read_csv(\"cancer.csv\")\n",
    "\n",
    "X=new_data.iloc[:,[0,2]].values\n",
    "y=new_data.iloc[:,3].values\n",
    "\n",
    "X_train, X_test, y_train, y_test = train_test_split(X, y, test_size =0.4, random_state=0)\n",
    "labels = [\"Deaths\",\"Survival\"]\n",
    "\n",
    "NeuroN = MLPClassifier(solver = 'lbfgs', alpha = 0.0001, hidden_layer_sizes =(10,), random_state = 1, activation = \"identity\",learning_rate_init = 0.01).fit(X_train, y_train)\n",
    "NeuroN_pred = NeuroN.predict(X_test)\n",
    "cm_NeuroN = confusion_matrix(y_test,NeuroN_pred, labels = NeuroN.classes_)\n",
    "disp = ConfusionMatrixDisplay(confusion_matrix = cm_NeuroN, display_labels = labels)\n",
    "\n",
    "cv = KFold(n_splits=10, random_state=1, shuffle=True)\n",
    "#X_train, X_test, y_train, y_test = train_test_split(X, y, test_size =0.4, random_state=0)\n",
    "\n",
    "scores = cross_val_score(NeuroN, X, y, scoring='neg_mean_absolute_error',\n",
    "                         cv=cv, n_jobs=-1)\n",
    "\n",
    "mean(absolute(scores))\n",
    "\n",
    "\n"
   ]
  },
  {
   "cell_type": "code",
   "execution_count": 99,
   "id": "350dd084",
   "metadata": {},
   "outputs": [
    {
     "name": "stderr",
     "output_type": "stream",
     "text": [
      "C:\\Users\\Rajagopal Nair\\Documents\\Python\\lib\\site-packages\\sklearn\\neural_network\\_multilayer_perceptron.py:614: ConvergenceWarning: Stochastic Optimizer: Maximum iterations (200) reached and the optimization hasn't converged yet.\n",
      "  warnings.warn(\n",
      "C:\\Users\\Rajagopal Nair\\Documents\\Python\\lib\\site-packages\\sklearn\\neural_network\\_multilayer_perceptron.py:614: ConvergenceWarning: Stochastic Optimizer: Maximum iterations (200) reached and the optimization hasn't converged yet.\n",
      "  warnings.warn(\n",
      "C:\\Users\\Rajagopal Nair\\Documents\\Python\\lib\\site-packages\\sklearn\\neural_network\\_multilayer_perceptron.py:614: ConvergenceWarning: Stochastic Optimizer: Maximum iterations (200) reached and the optimization hasn't converged yet.\n",
      "  warnings.warn(\n"
     ]
    },
    {
     "data": {
      "text/plain": [
       "{'activation': 'relu', 'solver': 'sgd'}"
      ]
     },
     "execution_count": 99,
     "metadata": {},
     "output_type": "execute_result"
    }
   ],
   "source": [
    "#\n",
    "from sklearn.model_selection import KFold, GridSearchCV\n",
    "parameters = {'activation':('identity','relu'), 'solver':('lbfgs','sgd')}\n",
    "Neuron_grid = GridSearchCV(NeuroN, parameters)\n",
    "Neuron_grid.fit(X_train, y_train)\n",
    "Neuron_grid.best_params_"
   ]
  },
  {
   "cell_type": "markdown",
   "id": "d77cff7e",
   "metadata": {},
   "source": [
    "#Among the four models, based on the performance metrics Logistic Regression was the best one with 76% accuracy. Eventhough it is not a perfect value. So based on this we can say that the test data set is not relevant to analyse the correct results. The samples are bad. We need more data which is relevant to make the predictions."
   ]
  },
  {
   "cell_type": "markdown",
   "id": "91397dc6",
   "metadata": {},
   "source": [
    "# All the algorithms resulted in underfitting. Based on the evaluation on the training dataset using kfold we see that test dataset is significantly better than the performance on the training dataset.\n",
    "#Underfitting: Poor performance on the training data. The data contains irrelevant information.\n",
    "\n",
    "\n"
   ]
  },
  {
   "cell_type": "code",
   "execution_count": null,
   "id": "fbc4149f",
   "metadata": {},
   "outputs": [],
   "source": [
    "# Function "
   ]
  },
  {
   "cell_type": "code",
   "execution_count": 65,
   "id": "da2f2f1e",
   "metadata": {},
   "outputs": [
    {
     "name": "stdout",
     "output_type": "stream",
     "text": [
      "              Age        Year  Auxillary nodes   Survival \n",
      "count  305.000000  305.000000       305.000000  305.000000\n",
      "mean    52.531148   62.849180         4.036066    1.265574\n",
      "std     10.744024    3.254078         7.199370    0.442364\n",
      "min     30.000000   58.000000         0.000000    1.000000\n",
      "25%     44.000000   60.000000         0.000000    1.000000\n",
      "50%     52.000000   63.000000         1.000000    1.000000\n",
      "75%     61.000000   66.000000         4.000000    2.000000\n",
      "max     83.000000   69.000000        52.000000    2.000000\n",
      "     Age  Year  Auxillary nodes  Survival \n",
      "0     30    62                3          1\n",
      "1     30    65                0          1\n",
      "2     31    59                2          1\n",
      "3     31    65                4          1\n",
      "4     33    58               10          1\n",
      "..   ...   ...              ...        ...\n",
      "300   75    62                1          1\n",
      "301   76    67                0          1\n",
      "302   77    65                3          1\n",
      "303   78    65                1          2\n",
      "304   83    58                2          2\n",
      "\n",
      "[265 rows x 4 columns]\n",
      "                      Age      Year  Auxillary nodes  Survival \n",
      "Age              1.000000  0.092426        -0.108307   0.059688\n",
      "Year             0.092426  1.000000        -0.006921   0.031328\n",
      "Auxillary nodes -0.108307 -0.006921         1.000000   0.236411\n",
      "Survival         0.059688  0.031328         0.236411   1.000000\n"
     ]
    },
    {
     "data": {
      "image/png": "[encoded data removed]",
      "text/plain": [
       "<Figure size 432x288 with 4 Axes>"
      ]
     },
     "metadata": {
      "needs_background": "light"
     },
     "output_type": "display_data"
    },
    {
     "data": {
      "image/png": "[encoded data removed]",
      "text/plain": [
       "<Figure size 432x288 with 1 Axes>"
      ]
     },
     "metadata": {
      "needs_background": "light"
     },
     "output_type": "display_data"
    },
    {
     "data": {
      "image/png": "[encoded data removed]",
      "text/plain": [
       "<Figure size 432x288 with 2 Axes>"
      ]
     },
     "metadata": {
      "needs_background": "light"
     },
     "output_type": "display_data"
    },
    {
     "name": "stderr",
     "output_type": "stream",
     "text": [
      "C:\\Users\\Rajagopal Nair\\Documents\\Python\\lib\\site-packages\\sklearn\\utils\\validation.py:70: FutureWarning: Pass groups=KFold(n_splits=10, random_state=1, shuffle=True) as keyword args. From version 1.0 (renaming of 0.25) passing these as positional arguments will result in an error\n",
      "  warnings.warn(f\"Pass {args_msg} as keyword args. From version \"\n"
     ]
    },
    {
     "ename": "TypeError",
     "evalue": "Singleton array array(KFold(n_splits=10, random_state=1, shuffle=True), dtype=object) cannot be considered a valid collection.",
     "output_type": "error",
     "traceback": [
      "\u001b[1;31m---------------------------------------------------------------------------\u001b[0m",
      "\u001b[1;31mTypeError\u001b[0m                                 Traceback (most recent call last)",
      "\u001b[1;32mC:\\Users\\RAJAGO~1\\AppData\\Local\\Temp/ipykernel_484/219788160.py\u001b[0m in \u001b[0;36m<module>\u001b[1;34m\u001b[0m\n\u001b[0;32m     62\u001b[0m         \u001b[0mX_train\u001b[0m\u001b[1;33m,\u001b[0m \u001b[0mX_test\u001b[0m\u001b[1;33m,\u001b[0m \u001b[0my_train\u001b[0m\u001b[1;33m,\u001b[0m \u001b[0my_test\u001b[0m \u001b[1;33m=\u001b[0m \u001b[0mtrain_test_split\u001b[0m\u001b[1;33m(\u001b[0m\u001b[0mX\u001b[0m\u001b[1;33m,\u001b[0m \u001b[0my\u001b[0m\u001b[1;33m,\u001b[0m \u001b[0mtest_size\u001b[0m \u001b[1;33m=\u001b[0m\u001b[1;36m0.4\u001b[0m\u001b[1;33m,\u001b[0m \u001b[0mrandom_state\u001b[0m\u001b[1;33m=\u001b[0m\u001b[1;36m0\u001b[0m\u001b[1;33m)\u001b[0m\u001b[1;33m\u001b[0m\u001b[1;33m\u001b[0m\u001b[0m\n\u001b[0;32m     63\u001b[0m \u001b[1;33m\u001b[0m\u001b[0m\n\u001b[1;32m---> 64\u001b[1;33m         \u001b[0mcv_results\u001b[0m \u001b[1;33m=\u001b[0m \u001b[0mcross_val_score\u001b[0m\u001b[1;33m(\u001b[0m\u001b[0malgorithm\u001b[0m\u001b[1;33m,\u001b[0m \u001b[0mX_train\u001b[0m\u001b[1;33m,\u001b[0m \u001b[0my_train\u001b[0m\u001b[1;33m,\u001b[0m \u001b[0mcv\u001b[0m\u001b[1;33m)\u001b[0m\u001b[1;33m\u001b[0m\u001b[1;33m\u001b[0m\u001b[0m\n\u001b[0m\u001b[0;32m     65\u001b[0m         \u001b[0mresults\u001b[0m\u001b[1;33m.\u001b[0m\u001b[0mappend\u001b[0m\u001b[1;33m(\u001b[0m\u001b[0mcv_results\u001b[0m\u001b[1;33m)\u001b[0m\u001b[1;33m\u001b[0m\u001b[1;33m\u001b[0m\u001b[0m\n\u001b[0;32m     66\u001b[0m         \u001b[0mnames\u001b[0m\u001b[1;33m.\u001b[0m\u001b[0mappend\u001b[0m\u001b[1;33m(\u001b[0m\u001b[0mname\u001b[0m\u001b[1;33m)\u001b[0m\u001b[1;33m\u001b[0m\u001b[1;33m\u001b[0m\u001b[0m\n",
      "\u001b[1;32m~\\Documents\\Python\\lib\\site-packages\\sklearn\\utils\\validation.py\u001b[0m in \u001b[0;36minner_f\u001b[1;34m(*args, **kwargs)\u001b[0m\n\u001b[0;32m     72\u001b[0m                           \"will result in an error\", FutureWarning)\n\u001b[0;32m     73\u001b[0m             \u001b[0mkwargs\u001b[0m\u001b[1;33m.\u001b[0m\u001b[0mupdate\u001b[0m\u001b[1;33m(\u001b[0m\u001b[0mzip\u001b[0m\u001b[1;33m(\u001b[0m\u001b[0msig\u001b[0m\u001b[1;33m.\u001b[0m\u001b[0mparameters\u001b[0m\u001b[1;33m,\u001b[0m \u001b[0margs\u001b[0m\u001b[1;33m)\u001b[0m\u001b[1;33m)\u001b[0m\u001b[1;33m\u001b[0m\u001b[1;33m\u001b[0m\u001b[0m\n\u001b[1;32m---> 74\u001b[1;33m             \u001b[1;32mreturn\u001b[0m \u001b[0mf\u001b[0m\u001b[1;33m(\u001b[0m\u001b[1;33m**\u001b[0m\u001b[0mkwargs\u001b[0m\u001b[1;33m)\u001b[0m\u001b[1;33m\u001b[0m\u001b[1;33m\u001b[0m\u001b[0m\n\u001b[0m\u001b[0;32m     75\u001b[0m         \u001b[1;32mreturn\u001b[0m \u001b[0minner_f\u001b[0m\u001b[1;33m\u001b[0m\u001b[1;33m\u001b[0m\u001b[0m\n\u001b[0;32m     76\u001b[0m \u001b[1;33m\u001b[0m\u001b[0m\n",
      "\u001b[1;32m~\\Documents\\Python\\lib\\site-packages\\sklearn\\model_selection\\_validation.py\u001b[0m in \u001b[0;36mcross_val_score\u001b[1;34m(estimator, X, y, groups, scoring, cv, n_jobs, verbose, fit_params, pre_dispatch, error_score)\u001b[0m\n\u001b[0;32m    443\u001b[0m     \u001b[0mscorer\u001b[0m \u001b[1;33m=\u001b[0m \u001b[0mcheck_scoring\u001b[0m\u001b[1;33m(\u001b[0m\u001b[0mestimator\u001b[0m\u001b[1;33m,\u001b[0m \u001b[0mscoring\u001b[0m\u001b[1;33m=\u001b[0m\u001b[0mscoring\u001b[0m\u001b[1;33m)\u001b[0m\u001b[1;33m\u001b[0m\u001b[1;33m\u001b[0m\u001b[0m\n\u001b[0;32m    444\u001b[0m \u001b[1;33m\u001b[0m\u001b[0m\n\u001b[1;32m--> 445\u001b[1;33m     cv_results = cross_validate(estimator=estimator, X=X, y=y, groups=groups,\n\u001b[0m\u001b[0;32m    446\u001b[0m                                 \u001b[0mscoring\u001b[0m\u001b[1;33m=\u001b[0m\u001b[1;33m{\u001b[0m\u001b[1;34m'score'\u001b[0m\u001b[1;33m:\u001b[0m \u001b[0mscorer\u001b[0m\u001b[1;33m}\u001b[0m\u001b[1;33m,\u001b[0m \u001b[0mcv\u001b[0m\u001b[1;33m=\u001b[0m\u001b[0mcv\u001b[0m\u001b[1;33m,\u001b[0m\u001b[1;33m\u001b[0m\u001b[1;33m\u001b[0m\u001b[0m\n\u001b[0;32m    447\u001b[0m                                 \u001b[0mn_jobs\u001b[0m\u001b[1;33m=\u001b[0m\u001b[0mn_jobs\u001b[0m\u001b[1;33m,\u001b[0m \u001b[0mverbose\u001b[0m\u001b[1;33m=\u001b[0m\u001b[0mverbose\u001b[0m\u001b[1;33m,\u001b[0m\u001b[1;33m\u001b[0m\u001b[1;33m\u001b[0m\u001b[0m\n",
      "\u001b[1;32m~\\Documents\\Python\\lib\\site-packages\\sklearn\\utils\\validation.py\u001b[0m in \u001b[0;36minner_f\u001b[1;34m(*args, **kwargs)\u001b[0m\n\u001b[0;32m     61\u001b[0m             \u001b[0mextra_args\u001b[0m \u001b[1;33m=\u001b[0m \u001b[0mlen\u001b[0m\u001b[1;33m(\u001b[0m\u001b[0margs\u001b[0m\u001b[1;33m)\u001b[0m \u001b[1;33m-\u001b[0m \u001b[0mlen\u001b[0m\u001b[1;33m(\u001b[0m\u001b[0mall_args\u001b[0m\u001b[1;33m)\u001b[0m\u001b[1;33m\u001b[0m\u001b[1;33m\u001b[0m\u001b[0m\n\u001b[0;32m     62\u001b[0m             \u001b[1;32mif\u001b[0m \u001b[0mextra_args\u001b[0m \u001b[1;33m<=\u001b[0m \u001b[1;36m0\u001b[0m\u001b[1;33m:\u001b[0m\u001b[1;33m\u001b[0m\u001b[1;33m\u001b[0m\u001b[0m\n\u001b[1;32m---> 63\u001b[1;33m                 \u001b[1;32mreturn\u001b[0m \u001b[0mf\u001b[0m\u001b[1;33m(\u001b[0m\u001b[1;33m*\u001b[0m\u001b[0margs\u001b[0m\u001b[1;33m,\u001b[0m \u001b[1;33m**\u001b[0m\u001b[0mkwargs\u001b[0m\u001b[1;33m)\u001b[0m\u001b[1;33m\u001b[0m\u001b[1;33m\u001b[0m\u001b[0m\n\u001b[0m\u001b[0;32m     64\u001b[0m \u001b[1;33m\u001b[0m\u001b[0m\n\u001b[0;32m     65\u001b[0m             \u001b[1;31m# extra_args > 0\u001b[0m\u001b[1;33m\u001b[0m\u001b[1;33m\u001b[0m\u001b[0m\n",
      "\u001b[1;32m~\\Documents\\Python\\lib\\site-packages\\sklearn\\model_selection\\_validation.py\u001b[0m in \u001b[0;36mcross_validate\u001b[1;34m(estimator, X, y, groups, scoring, cv, n_jobs, verbose, fit_params, pre_dispatch, return_train_score, return_estimator, error_score)\u001b[0m\n\u001b[0;32m    233\u001b[0m \u001b[1;33m\u001b[0m\u001b[0m\n\u001b[0;32m    234\u001b[0m     \"\"\"\n\u001b[1;32m--> 235\u001b[1;33m     \u001b[0mX\u001b[0m\u001b[1;33m,\u001b[0m \u001b[0my\u001b[0m\u001b[1;33m,\u001b[0m \u001b[0mgroups\u001b[0m \u001b[1;33m=\u001b[0m \u001b[0mindexable\u001b[0m\u001b[1;33m(\u001b[0m\u001b[0mX\u001b[0m\u001b[1;33m,\u001b[0m \u001b[0my\u001b[0m\u001b[1;33m,\u001b[0m \u001b[0mgroups\u001b[0m\u001b[1;33m)\u001b[0m\u001b[1;33m\u001b[0m\u001b[1;33m\u001b[0m\u001b[0m\n\u001b[0m\u001b[0;32m    236\u001b[0m \u001b[1;33m\u001b[0m\u001b[0m\n\u001b[0;32m    237\u001b[0m     \u001b[0mcv\u001b[0m \u001b[1;33m=\u001b[0m \u001b[0mcheck_cv\u001b[0m\u001b[1;33m(\u001b[0m\u001b[0mcv\u001b[0m\u001b[1;33m,\u001b[0m \u001b[0my\u001b[0m\u001b[1;33m,\u001b[0m \u001b[0mclassifier\u001b[0m\u001b[1;33m=\u001b[0m\u001b[0mis_classifier\u001b[0m\u001b[1;33m(\u001b[0m\u001b[0mestimator\u001b[0m\u001b[1;33m)\u001b[0m\u001b[1;33m)\u001b[0m\u001b[1;33m\u001b[0m\u001b[1;33m\u001b[0m\u001b[0m\n",
      "\u001b[1;32m~\\Documents\\Python\\lib\\site-packages\\sklearn\\utils\\validation.py\u001b[0m in \u001b[0;36mindexable\u001b[1;34m(*iterables)\u001b[0m\n\u001b[0;32m    354\u001b[0m     \"\"\"\n\u001b[0;32m    355\u001b[0m     \u001b[0mresult\u001b[0m \u001b[1;33m=\u001b[0m \u001b[1;33m[\u001b[0m\u001b[0m_make_indexable\u001b[0m\u001b[1;33m(\u001b[0m\u001b[0mX\u001b[0m\u001b[1;33m)\u001b[0m \u001b[1;32mfor\u001b[0m \u001b[0mX\u001b[0m \u001b[1;32min\u001b[0m \u001b[0miterables\u001b[0m\u001b[1;33m]\u001b[0m\u001b[1;33m\u001b[0m\u001b[1;33m\u001b[0m\u001b[0m\n\u001b[1;32m--> 356\u001b[1;33m     \u001b[0mcheck_consistent_length\u001b[0m\u001b[1;33m(\u001b[0m\u001b[1;33m*\u001b[0m\u001b[0mresult\u001b[0m\u001b[1;33m)\u001b[0m\u001b[1;33m\u001b[0m\u001b[1;33m\u001b[0m\u001b[0m\n\u001b[0m\u001b[0;32m    357\u001b[0m     \u001b[1;32mreturn\u001b[0m \u001b[0mresult\u001b[0m\u001b[1;33m\u001b[0m\u001b[1;33m\u001b[0m\u001b[0m\n\u001b[0;32m    358\u001b[0m \u001b[1;33m\u001b[0m\u001b[0m\n",
      "\u001b[1;32m~\\Documents\\Python\\lib\\site-packages\\sklearn\\utils\\validation.py\u001b[0m in \u001b[0;36mcheck_consistent_length\u001b[1;34m(*arrays)\u001b[0m\n\u001b[0;32m    314\u001b[0m     \"\"\"\n\u001b[0;32m    315\u001b[0m \u001b[1;33m\u001b[0m\u001b[0m\n\u001b[1;32m--> 316\u001b[1;33m     \u001b[0mlengths\u001b[0m \u001b[1;33m=\u001b[0m \u001b[1;33m[\u001b[0m\u001b[0m_num_samples\u001b[0m\u001b[1;33m(\u001b[0m\u001b[0mX\u001b[0m\u001b[1;33m)\u001b[0m \u001b[1;32mfor\u001b[0m \u001b[0mX\u001b[0m \u001b[1;32min\u001b[0m \u001b[0marrays\u001b[0m \u001b[1;32mif\u001b[0m \u001b[0mX\u001b[0m \u001b[1;32mis\u001b[0m \u001b[1;32mnot\u001b[0m \u001b[1;32mNone\u001b[0m\u001b[1;33m]\u001b[0m\u001b[1;33m\u001b[0m\u001b[1;33m\u001b[0m\u001b[0m\n\u001b[0m\u001b[0;32m    317\u001b[0m     \u001b[0muniques\u001b[0m \u001b[1;33m=\u001b[0m \u001b[0mnp\u001b[0m\u001b[1;33m.\u001b[0m\u001b[0munique\u001b[0m\u001b[1;33m(\u001b[0m\u001b[0mlengths\u001b[0m\u001b[1;33m)\u001b[0m\u001b[1;33m\u001b[0m\u001b[1;33m\u001b[0m\u001b[0m\n\u001b[0;32m    318\u001b[0m     \u001b[1;32mif\u001b[0m \u001b[0mlen\u001b[0m\u001b[1;33m(\u001b[0m\u001b[0muniques\u001b[0m\u001b[1;33m)\u001b[0m \u001b[1;33m>\u001b[0m \u001b[1;36m1\u001b[0m\u001b[1;33m:\u001b[0m\u001b[1;33m\u001b[0m\u001b[1;33m\u001b[0m\u001b[0m\n",
      "\u001b[1;32m~\\Documents\\Python\\lib\\site-packages\\sklearn\\utils\\validation.py\u001b[0m in \u001b[0;36m<listcomp>\u001b[1;34m(.0)\u001b[0m\n\u001b[0;32m    314\u001b[0m     \"\"\"\n\u001b[0;32m    315\u001b[0m \u001b[1;33m\u001b[0m\u001b[0m\n\u001b[1;32m--> 316\u001b[1;33m     \u001b[0mlengths\u001b[0m \u001b[1;33m=\u001b[0m \u001b[1;33m[\u001b[0m\u001b[0m_num_samples\u001b[0m\u001b[1;33m(\u001b[0m\u001b[0mX\u001b[0m\u001b[1;33m)\u001b[0m \u001b[1;32mfor\u001b[0m \u001b[0mX\u001b[0m \u001b[1;32min\u001b[0m \u001b[0marrays\u001b[0m \u001b[1;32mif\u001b[0m \u001b[0mX\u001b[0m \u001b[1;32mis\u001b[0m \u001b[1;32mnot\u001b[0m \u001b[1;32mNone\u001b[0m\u001b[1;33m]\u001b[0m\u001b[1;33m\u001b[0m\u001b[1;33m\u001b[0m\u001b[0m\n\u001b[0m\u001b[0;32m    317\u001b[0m     \u001b[0muniques\u001b[0m \u001b[1;33m=\u001b[0m \u001b[0mnp\u001b[0m\u001b[1;33m.\u001b[0m\u001b[0munique\u001b[0m\u001b[1;33m(\u001b[0m\u001b[0mlengths\u001b[0m\u001b[1;33m)\u001b[0m\u001b[1;33m\u001b[0m\u001b[1;33m\u001b[0m\u001b[0m\n\u001b[0;32m    318\u001b[0m     \u001b[1;32mif\u001b[0m \u001b[0mlen\u001b[0m\u001b[1;33m(\u001b[0m\u001b[0muniques\u001b[0m\u001b[1;33m)\u001b[0m \u001b[1;33m>\u001b[0m \u001b[1;36m1\u001b[0m\u001b[1;33m:\u001b[0m\u001b[1;33m\u001b[0m\u001b[1;33m\u001b[0m\u001b[0m\n",
      "\u001b[1;32m~\\Documents\\Python\\lib\\site-packages\\sklearn\\utils\\validation.py\u001b[0m in \u001b[0;36m_num_samples\u001b[1;34m(x)\u001b[0m\n\u001b[0;32m    257\u001b[0m     \u001b[1;32mif\u001b[0m \u001b[0mhasattr\u001b[0m\u001b[1;33m(\u001b[0m\u001b[0mx\u001b[0m\u001b[1;33m,\u001b[0m \u001b[1;34m'shape'\u001b[0m\u001b[1;33m)\u001b[0m \u001b[1;32mand\u001b[0m \u001b[0mx\u001b[0m\u001b[1;33m.\u001b[0m\u001b[0mshape\u001b[0m \u001b[1;32mis\u001b[0m \u001b[1;32mnot\u001b[0m \u001b[1;32mNone\u001b[0m\u001b[1;33m:\u001b[0m\u001b[1;33m\u001b[0m\u001b[1;33m\u001b[0m\u001b[0m\n\u001b[0;32m    258\u001b[0m         \u001b[1;32mif\u001b[0m \u001b[0mlen\u001b[0m\u001b[1;33m(\u001b[0m\u001b[0mx\u001b[0m\u001b[1;33m.\u001b[0m\u001b[0mshape\u001b[0m\u001b[1;33m)\u001b[0m \u001b[1;33m==\u001b[0m \u001b[1;36m0\u001b[0m\u001b[1;33m:\u001b[0m\u001b[1;33m\u001b[0m\u001b[1;33m\u001b[0m\u001b[0m\n\u001b[1;32m--> 259\u001b[1;33m             raise TypeError(\"Singleton array %r cannot be considered\"\n\u001b[0m\u001b[0;32m    260\u001b[0m                             \" a valid collection.\" % x)\n\u001b[0;32m    261\u001b[0m         \u001b[1;31m# Check that shape is returning an integer or default to len\u001b[0m\u001b[1;33m\u001b[0m\u001b[1;33m\u001b[0m\u001b[0m\n",
      "\u001b[1;31mTypeError\u001b[0m: Singleton array array(KFold(n_splits=10, random_state=1, shuffle=True), dtype=object) cannot be considered a valid collection."
     ]
    }
   ],
   "source": [
    "import pandas as pd\n",
    "import numpy as np\n",
    "import matplotlib.pyplot as plt\n",
    "import seaborn as sns\n",
    "import math\n",
    "from sklearn import linear_model\n",
    "from collections import Counter\n",
    "from sklearn.model_selection import KFold, GridSearchCV\n",
    "from sklearn.preprocessing import StandardScaler\n",
    "from sklearn.preprocessing import MinMaxScaler\n",
    "from sklearn.metrics import roc_auc_score, plot_roc_curve\n",
    "from sklearn.linear_model import LogisticRegression\n",
    "from sklearn.neural_network import MLPClassifier\n",
    "from sklearn.metrics import confusion_matrix, ConfusionMatrixDisplay, accuracy_score\n",
    "from sklearn.metrics import classification_report\n",
    "from sklearn.model_selection import train_test_split\n",
    "from sklearn.model_selection import cross_val_score\n",
    "from sklearn.linear_model import LinearRegression\n",
    "from sklearn.ensemble import RandomForestClassifier\n",
    "from sklearn.svm import SVC\n",
    "from numpy import mean\n",
    "from numpy import absolute\n",
    "from numpy import sqrt\n",
    "\n",
    "data_cancer = pd.read_csv(\"cancer.csv\")\n",
    "report = data_cancer.describe()\n",
    "print(report)\n",
    "data_cancer.hist()\n",
    "data_cancer.plot.box()\n",
    "\n",
    "maximum = 4 + 1.5*(4-0)\n",
    "new_data = data_cancer[data_cancer[\"Auxillary nodes\"] <= maximum]\n",
    "new_data.plot.box()\n",
    "print(new_data)\n",
    "\n",
    "corr=new_data.corr()\n",
    "print(corr)\n",
    "sns.heatmap(corr)\n",
    "plt.show()\n",
    "\n",
    "sc=StandardScaler()\n",
    "X_train=sc.fit_transform(X_train)\n",
    "X_test=sc.transform(X_test)\n",
    "\n",
    "X=data_cancer.iloc[:,[0,2]].values\n",
    "y=data_cancer.iloc[:,3].values\n",
    "X_train, X_test, y_train, y_test = train_test_split(X, y, test_size =0.4, random_state=0)\n",
    "\n",
    "labels = [\"Deaths\",\"Survival\"]\n",
    "\n",
    "algorithms = []\n",
    "algorithms.append(('LR', LogisticRegression()))\n",
    "algorithms.append(('SVM', SVC()))\n",
    "algorithms.append(('NN', MLPClassifier()))\n",
    "algorithms.append(('RF', RandomForestClassifier()))\n",
    "\n",
    "results=[]\n",
    "names = []\n",
    "    \n",
    "for name, algorithm in algorithms:\n",
    "        cv = KFold(n_splits=10, random_state=1, shuffle=True)\n",
    "        X_train, X_test, y_train, y_test = train_test_split(X, y, test_size =0.4, random_state=0)\n",
    "\n",
    "        cv_results = cross_val_score(algorithm, X_train, y_train, cv)\n",
    "        results.append(cv_results)\n",
    "        names.append(name)\n",
    "        msg= \"%s: %f (%f)\" % (name, cv_results.mean(), cv_results.std())\n",
    "        print(msg)\n",
    "    "
   ]
  },
  {
   "cell_type": "code",
   "execution_count": null,
   "id": "5a80c181",
   "metadata": {},
   "outputs": [],
   "source": [
    "# Sorry sir, not sure how to call a function. thank you."
   ]
  }
 ],
 "metadata": {
  "kernelspec": {
   "display_name": "Python 3 (ipykernel)",
   "language": "python",
   "name": "python3"
  },
  "language_info": {
   "codemirror_mode": {
    "name": "ipython",
    "version": 3
   },
   "file_extension": ".py",
   "mimetype": "text/x-python",
   "name": "python",
   "nbconvert_exporter": "python",
   "pygments_lexer": "ipython3",
   "version": "3.9.7"
  }
 },
 "nbformat": 4,
 "nbformat_minor": 5
}
