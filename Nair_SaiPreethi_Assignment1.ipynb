{
 "cells": [
  {
   "cell_type": "code",
   "execution_count": 3,
   "id": "f210a731",
   "metadata": {},
   "outputs": [
    {
     "name": "stdout",
     "output_type": "stream",
     "text": [
      "Enter a number between 1 and 20\n",
      "5\n",
      "Wrong guess, Try again\n",
      "2\n",
      "Congratulations! You guessed right!\n"
     ]
    }
   ],
   "source": [
    "import random\n",
    "print(\"Enter a number between 1 and 20\")\n",
    "Number = random.randint(1,20)\n",
    "for guess in range(1,6):\n",
    "    \n",
    "    usernumber = int(input())\n",
    "    if usernumber != Number:\n",
    "        print (\"Wrong guess, Try again\")\n",
    "    else:\n",
    "        break\n",
    "    \n",
    "if usernumber == Number:\n",
    "    print(\"Congratulations! You guessed right!\")\n",
    "\n",
    "    \n",
    "else:\n",
    "    print(\"You lose, you have reached your limit\")"
   ]
  },
  {
   "cell_type": "code",
   "execution_count": 4,
   "id": "341bc666",
   "metadata": {},
   "outputs": [
    {
     "name": "stdout",
     "output_type": "stream",
     "text": [
      "Enter a number between 1 and 20\n",
      "4\n",
      "Print a higher value, Try again\n",
      "7\n",
      "Print a higher value, Try again\n",
      "10\n",
      "Print a lower value, Try again\n",
      "9\n",
      "Print a lower value, Try again\n",
      "8\n",
      "Congratulations! You guessed right!\n"
     ]
    }
   ],
   "source": [
    "import random\n",
    "print(\"Enter a number between 1 and 20\")\n",
    "Number = random.randint(1,20)\n",
    "for guess in range(1,6):\n",
    "    \n",
    "    usernumber = int(input())\n",
    "    if usernumber < Number:\n",
    "        print (\"Print a higher value, Try again\")\n",
    "    elif usernumber > Number:\n",
    "        print(\"Print a lower value, Try again\")\n",
    "    else:\n",
    "        break\n",
    "    \n",
    "if usernumber == Number:\n",
    "    print(\"Congratulations! You guessed right!\")\n",
    "\n",
    "    \n",
    "else:\n",
    "    print(\"You lose, you have reached your limit\")"
   ]
  },
  {
   "cell_type": "code",
   "execution_count": 6,
   "id": "b77f5ecc",
   "metadata": {},
   "outputs": [
    {
     "name": "stdout",
     "output_type": "stream",
     "text": [
      "Enter your move: Rock, Paper, Scissors, Spock or Lizard \n",
      "Pink\n",
      "Invalid Entry\n"
     ]
    }
   ],
   "source": [
    "import random\n",
    "print(\"Enter your move: Rock, Paper, Scissors, Spock or Lizard \")\n",
    "user = input()\n",
    "\n",
    "number = random.randint(1,5)\n",
    "\n",
    "if number == 1:\n",
    "    computer = \"Rock\"\n",
    "elif number == 2:\n",
    "    computer = \"Paper\"\n",
    "elif number == 3:\n",
    "    computer = \"Scissors\"\n",
    "elif number == 4:\n",
    "    computer = \"Spock\"\n",
    "elif number == 5:\n",
    "    computer = \"Lizard\"\n",
    "\n",
    "if user == computer:\n",
    "    print(\"It is a tie!\")\n",
    "elif user == \"Rock\" and computer == \"Scissors\":\n",
    "    print(\"You win!\")\n",
    "elif user == \"Rock\" and computer == \"Paper\":\n",
    "    print(\"You Lose!\")\n",
    "elif user == \"Rock\" and computer == \"Lizard\":\n",
    "    print(\"You Win!\")\n",
    "elif user == \"Rock\" and computer == \"Spock\":\n",
    "    print(\"You Lose!\")\n",
    "elif user == \"Paper\" and computer == \"Scissors\":\n",
    "    print(\"You Lose!\")\n",
    "elif user == \"Paper\" and computer == \"Spock\":\n",
    "    print(\"You Win!\")\n",
    "elif user == \"Paper\" and computer == \"Lizard\":\n",
    "    print(\"You Lose!\")\n",
    "elif user == \"Paper\" and computer == \"Rock\":\n",
    "    print(\"You Win!\")\n",
    "elif user == \"Lizard\" and computer == \"Rock\":\n",
    "    print(\"You Lose!\")\n",
    "elif user == \"Lizard\" and computer == \"Paper\":\n",
    "    print(\"You Win!\")\n",
    "elif user == \"Lizard\" and computer == \"Scissors\":\n",
    "    print(\"You Lose!\")\n",
    "elif user == \"Lizard\" and computer == \"Spock\":\n",
    "    print(\"You win!\")\n",
    "elif user == \"Scissors\" and computer == \"Spock\":\n",
    "    print (\"You Lose!\")\n",
    "elif user == \"Scissors\" and computer == \"Lizard\":\n",
    "    print(\"You Win!\")\n",
    "elif user == \"Scissors\" and computer == \"Rock\":\n",
    "    print(\"You Lose!\")\n",
    "elif user == \"Scissors\" and computer == \"Paper\":\n",
    "    print(\"You win!\")\n",
    "elif user == \"Spock\" and computer == \"Scissors\":\n",
    "    print(\"You Win!\")\n",
    "elif user == \"Spock\" and computer == \"Paper\":\n",
    "    print(\"You Lose!\")\n",
    "elif user == \"Spock\" and computer == \"Rock\":\n",
    "    print(\"You win!\")\n",
    "elif user == \"Spock\" and computer == \"Lizard\":\n",
    "    print(\"You Lose!\")\n",
    "else:\n",
    "    print(\"Invalid Entry\")  \n",
    "\n",
    "\n",
    "    "
   ]
  },
  {
   "cell_type": "code",
   "execution_count": 3,
   "id": "97afac4f",
   "metadata": {},
   "outputs": [
    {
     "name": "stdout",
     "output_type": "stream",
     "text": [
      "5\n"
     ]
    }
   ],
   "source": [
    "import random\n",
    "\n",
    "NUM_EXPERIMENTS = 10000\n",
    "\n",
    "experiments_with_streak = 0\n",
    "\n",
    "for _ in range(NUM_EXPERIMENTS):\n",
    "    streak = 0\n",
    "    for _ in range(99):\n",
    "        same = random.choice(('Head', 'Tails'))\n",
    "        streak = streak + 1 if same else 0\n",
    "        if streak == 5:\n",
    "            experiments_with_streak += 1\n",
    "            break\n",
    "print (streak)\n",
    "\n",
    "#print('Chance of streak: %.2f%%' % (100 * experiments_with_streak / NUM_EXPERIMENTS))"
   ]
  },
  {
   "cell_type": "code",
   "execution_count": null,
   "id": "83fd3241",
   "metadata": {},
   "outputs": [],
   "source": []
  }
 ],
 "metadata": {
  "kernelspec": {
   "display_name": "Python 3 (ipykernel)",
   "language": "python",
   "name": "python3"
  },
  "language_info": {
   "codemirror_mode": {
    "name": "ipython",
    "version": 3
   },
   "file_extension": ".py",
   "mimetype": "text/x-python",
   "name": "python",
   "nbconvert_exporter": "python",
   "pygments_lexer": "ipython3",
   "version": "3.9.7"
  }
 },
 "nbformat": 4,
 "nbformat_minor": 5
}
