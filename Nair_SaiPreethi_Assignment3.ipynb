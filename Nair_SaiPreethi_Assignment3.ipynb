{
 "cells": [
  {
   "cell_type": "code",
   "execution_count": 1,
   "id": "3bd2992b",
   "metadata": {},
   "outputs": [
    {
     "name": "stdout",
     "output_type": "stream",
     "text": [
      "Ram s India 3.0 26 BA\n",
      "Sham R India 2.6 20 MA\n",
      "Pat Y Canada 2.0 20 BS\n",
      "Young T US 3.2 30 MS\n"
     ]
    }
   ],
   "source": [
    "class StudentRecords:\n",
    "    def __init__(self, FirstName, LastName, Country, OverallGrade, Credits, Major):\n",
    "        self.FirstName = FirstName\n",
    "        self.LastName = LastName\n",
    "        self.Country = Country\n",
    "        self.OverallGrade = OverallGrade\n",
    "        self.Credits = Credits\n",
    "        self.Major = Major\n",
    "\n",
    "student1 = StudentRecords('Ram', 's', 'India', 3.0, 26, 'BA')\n",
    "student2 = StudentRecords('Sham', 'R', 'India', 2.6, 20, 'MA')\n",
    "student3 = StudentRecords('Pat', 'Y', 'Canada', 2.0, 20, 'BS')\n",
    "student4 = StudentRecords('Young', 'T', 'US', 3.2, 30, 'MS')\n",
    "\n",
    "print(student1.FirstName, student1.LastName, student1.Country, student1.OverallGrade, student1.Credits, student1.Major)\n",
    "print(student2.FirstName, student2.LastName, student2.Country, student2.OverallGrade, student2.Credits, student2.Major)\n",
    "print(student3.FirstName, student3.LastName, student3.Country, student3.OverallGrade, student3.Credits, student3.Major)\n",
    "print(student4.FirstName, student4.LastName, student4.Country, student4.OverallGrade, student4.Credits, student4.Major)\n"
   ]
  },
  {
   "cell_type": "code",
   "execution_count": 2,
   "id": "1e6a8b24",
   "metadata": {},
   "outputs": [
    {
     "name": "stdout",
     "output_type": "stream",
     "text": [
      "Progress- Goodjob\n",
      "Progress -Average\n",
      "Progress -Good\n",
      "Progress- Goodjob\n"
     ]
    }
   ],
   "source": [
    "if (student1.OverallGrade>=3.0) and (student1.Credits>=20):\n",
    "    print (\"Progress- Goodjob\")\n",
    "elif (student1.OverallGrade > 2.5) and (student1.Credits <= 20) and (student1.Credits>10):\n",
    "    print(\"Progress -Average\")\n",
    "else:\n",
    "    print(\"Progress -Good\")\n",
    "if (student2.OverallGrade>=3.0) and (student2.Credits>=20):\n",
    "    print (\"Progress- Goodjob\")\n",
    "elif (student2.OverallGrade > 2.5) and (student2.Credits <= 20) and (student2.Credits>10):\n",
    "    print(\"Progress -Average\")\n",
    "else:\n",
    "    print(\"Progress -Good\")\n",
    "if (student3.OverallGrade>=3.0) and (student3.Credits>=20):\n",
    "    print (\"Progress- Goodjob\")\n",
    "elif (student3.OverallGrade > 2.5) and (student3.Credits <= 20) and (student3.Credits>10):\n",
    "    print(\"Progress -Average\")\n",
    "else:\n",
    "    print(\"Progress -Good\")\n",
    "if (student4.OverallGrade>=3.0) and (student4.Credits>=20):\n",
    "    print (\"Progress- Goodjob\")\n",
    "elif (student4.OverallGrade > 2.5) and (student4.Credits <= 20) and (student4.Credits>10):\n",
    "    print(\"Progress -Average\")\n",
    "else:\n",
    "    print(\"Progress -Good\")\n",
    "        "
   ]
  },
  {
   "cell_type": "code",
   "execution_count": 18,
   "id": "e4e340e1",
   "metadata": {},
   "outputs": [
    {
     "name": "stdout",
     "output_type": "stream",
     "text": [
      "Enter the count of numbers:5\n",
      "Enter the numbers :i23\n",
      "Enter the numbers :i-67\n",
      "Enter the numbers :i9\n",
      "Enter the numbers :i-43\n",
      "Enter the numbers :i23\n",
      "[23, 9, 23] [-67, -43]\n"
     ]
    }
   ],
   "source": [
    "Numberlist = []\n",
    "PositiveList = []\n",
    "NegativeList = []\n",
    "\n",
    "\n",
    "Number = int(input(\"Enter the count of numbers:\"))\n",
    "for i in range(1, Number + 1):\n",
    "    value = int(input(\"Enter the numbers :\" 'i'))\n",
    "    Numberlist.append(value)\n",
    "for j in range (Number):\n",
    "    if(Numberlist[j] >=0):\n",
    "        PositiveList.append(Numberlist[j])\n",
    "    else:\n",
    "        NegativeList.append(Numberlist[j])\n",
    "print(PositiveList, NegativeList)\n",
    "\n"
   ]
  },
  {
   "cell_type": "code",
   "execution_count": 2,
   "id": "95c4c603",
   "metadata": {},
   "outputs": [
    {
     "name": "stdout",
     "output_type": "stream",
     "text": [
      "([5, 1, 9, 3], [-6, -3, -2, 0, -8])\n",
      "2.22 µs ± 24.5 ns per loop (mean ± std. dev. of 7 runs, 100000 loops each)\n"
     ]
    }
   ],
   "source": [
    "list= [-6,5,-3,-2,1,0,-8,9,3]\n",
    "def Numberlist(List1):\n",
    "    positivelist = []\n",
    "    negativelist = []\n",
    "    \n",
    "    for number in List1:\n",
    "        if number > 0:\n",
    "            positivelist.append(number)\n",
    "        else:\n",
    "            negativelist.append(number)\n",
    "    return positivelist, negativelist\n",
    "print(Numberlist(list))\n",
    "\n",
    "\n",
    "\n",
    "%timeit Numberlist(list)\n",
    "\n"
   ]
  },
  {
   "cell_type": "code",
   "execution_count": 5,
   "id": "9bcfed18",
   "metadata": {},
   "outputs": [
    {
     "name": "stdout",
     "output_type": "stream",
     "text": [
      "1.15 µs ± 163 ns per loop (mean ± std. dev. of 7 runs, 1000000 loops each)\n"
     ]
    }
   ],
   "source": [
    "def check(Test1):\n",
    "    return 9\n",
    "%timeit Numberlist(list)"
   ]
  },
  {
   "cell_type": "code",
   "execution_count": 8,
   "id": "fe61f795",
   "metadata": {},
   "outputs": [
    {
     "name": "stdout",
     "output_type": "stream",
     "text": [
      "Input = 18\n",
      "Output = [[8, 11], [9, 10], [9, 11], [10, 10], [10, 11]]\n",
      "33.5 ns ± 4.34 ns per loop (mean ± std. dev. of 7 runs, 10000000 loops each)\n"
     ]
    }
   ],
   "source": [
    "def possibilities(number):\n",
    "    # empty list to store result.\n",
    "    ans = []\n",
    "    # for each i from 1 to 11.\n",
    "    for i in range(1, 12):\n",
    "        # for each j from i to 11.\n",
    "        for j in range(i, 12):\n",
    "            # if sum of i and j is between number and 22 exclusively.\n",
    "            if(number < i+j and i+j < 22):\n",
    "                # append list[i, j] to ans.\n",
    "                ans.append([i, j])\n",
    "\n",
    "    # print ans list.\n",
    "    print(\"Output =\", ans)\n",
    "\n",
    "\n",
    "# asking for input final score.\n",
    "n = int(input(\"Input = \"))\n",
    "\n",
    "# possibilities() calling\n",
    "possibilities(n)\n",
    "\n",
    "%timeit possibilities"
   ]
  },
  {
   "cell_type": "code",
   "execution_count": 9,
   "id": "b7f39645",
   "metadata": {},
   "outputs": [
    {
     "name": "stdout",
     "output_type": "stream",
     "text": [
      "46.9 ns ± 12.6 ns per loop (mean ± std. dev. of 7 runs, 10000000 loops each)\n"
     ]
    }
   ],
   "source": [
    "def check(Test2):\n",
    "    return 12\n",
    "%timeit possibilities"
   ]
  }
 ],
 "metadata": {
  "kernelspec": {
   "display_name": "Python 3 (ipykernel)",
   "language": "python",
   "name": "python3"
  },
  "language_info": {
   "codemirror_mode": {
    "name": "ipython",
    "version": 3
   },
   "file_extension": ".py",
   "mimetype": "text/x-python",
   "name": "python",
   "nbconvert_exporter": "python",
   "pygments_lexer": "ipython3",
   "version": "3.9.7"
  }
 },
 "nbformat": 4,
 "nbformat_minor": 5
}
